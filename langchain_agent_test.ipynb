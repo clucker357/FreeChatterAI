{
 "cells": [
  {
   "cell_type": "markdown",
   "metadata": {},
   "source": [
    "word -> AI -> topic生成"
   ]
  },
  {
   "cell_type": "markdown",
   "metadata": {},
   "source": [
    "duckduckgo-searchを使用(APIキーの発行が必要ない, 利用制限も恐らくない？)"
   ]
  },
  {
   "cell_type": "code",
   "execution_count": 1,
   "metadata": {},
   "outputs": [],
   "source": [
    "# !pip install openai\n",
    "# !pip install langchain\n",
    "# !pip install chromadb\n",
    "# !pip install duckduckgo-search\n",
    "# !pip install chardet\n",
    "# `pip install tiktoken"
   ]
  },
  {
   "cell_type": "code",
   "execution_count": null,
   "metadata": {},
   "outputs": [],
   "source": [
    "import json\n",
    "import os\n",
    "import time\n",
    "\n",
    "from langchain.chat_models import ChatOpenAI\n",
    "from langchain.chains import ConversationChain\n",
    "from langchain.memory import ConversationBufferWindowMemory\n",
    "from langchain.schema import messages_to_dict\n",
    "from langchain.prompts.chat import (\n",
    "    ChatPromptTemplate,\n",
    "    MessagesPlaceholder,\n",
    "    SystemMessagePromptTemplate,\n",
    "    HumanMessagePromptTemplate,\n",
    ")\n",
    "\n",
    "from langchain.chains import RetrievalQA\n",
    "from langchain_community.embeddings.openai import OpenAIEmbeddings\n",
    "from langchain_community.document_loaders import TextLoader\n",
    "from langchain.vectorstores import Chroma\n",
    "\n",
    "from langchain.agents import AgentType\n",
    "from langchain.agents import initialize_agent\n",
    "from langchain.tools import Tool\n",
    "from langchain.tools import DuckDuckGoSearchRun\n",
    "\n",
    "\n",
    "os.environ[\"OPENAI_API_KEY\"] = \"xxx\"\n",
    "lim = ChatOpenAI(model_name=\"gpt-3.5-turbo-1106\",temperature=0,max_tokens=512)\n",
    "memory = ConversationBufferWindowMemory(k=2,return_messages=True)\n"
   ]
  },
  {
   "cell_type": "markdown",
   "metadata": {},
   "source": [
    "OpenAIEmbeddingsを利用するため、追加で料金がかかっている"
   ]
  },
  {
   "cell_type": "code",
   "execution_count": 9,
   "metadata": {},
   "outputs": [],
   "source": [
    "template = \"\"\"\n",
    "#以下に示す条件を守ってください\n",
    "- あなたは24歳女性のマイです。\n",
    "- 文体は話し言葉で\n",
    "- おてんば娘風な口調で話してください\n",
    "- 短い2文で出力してください\n",
    "- 相手が返答しやすいように文章を出力してください\n",
    "\"\"\""
   ]
  },
  {
   "cell_type": "code",
   "execution_count": 14,
   "metadata": {},
   "outputs": [],
   "source": [
    "prompt = ChatPromptTemplate.from_messages([\n",
    "    SystemMessagePromptTemplate.from_template(template),\n",
    "    MessagesPlaceholder(variable_name=\"history\"),\n",
    "    HumanMessagePromptTemplate.from_template(\"{input}\")\n",
    "])\n",
    "conversation = ConversationChain(llm=lim, memory=memory, prompt=prompt)"
   ]
  },
  {
   "cell_type": "code",
   "execution_count": null,
   "metadata": {},
   "outputs": [],
   "source": [
    "prompt = ChatPromptTemplate.from_messages([\n",
    "    SystemMessagePromptTemplate.from_template(template),\n",
    "    MessagesPlaceholder(variable_name=\"history\"),\n",
    "    HumanMessagePromptTemplate.from_template(\"{input}\")\n",
    "])\n",
    "conversation = ConversationChain(llm=lim, memory=memory, prompt=prompt)\n",
    "command = input(\"You: \")\n",
    "while True:\n",
    "  response = conversation.predict(input=command)\n",
    "  print(f\"AI: {response}\")\n",
    "  time.sleep(0.1)\n",
    "  command = input(\"You: \")\n",
    "  if command == \"exit\":\n",
    "    break"
   ]
  },
  {
   "cell_type": "code",
   "execution_count": 19,
   "metadata": {},
   "outputs": [
    {
     "name": "stdout",
     "output_type": "stream",
     "text": [
      "\n",
      "\n",
      "\u001b[1m> Entering new AgentExecutor chain...\u001b[0m\n",
      "\u001b[32;1m\u001b[1;3mI need to search for information on \"タコピーの原罪\" to find out the details.\n",
      "Action: duckduckgo-search\n",
      "Action Input: \"タコピーの原罪 詳細\"\u001b[0m\n",
      "Observation: \u001b[36;1m\u001b[1;3mあらすじ 2016年 、 地球 にハッピーを広めるため来訪したハッピー星人 タコピー は、当時小学4年生の女子児童 久世しずか に窮地を救われる。 その礼として、複雑な環境下で笑顔を失った彼女を幸せにするべく、タコピーはハッピー星に伝わる様々な「ハッピー道具」で問題解決を図る [1] [10] 。 しずかは学校で同級生・ 雲母坂まりな によるいじめを受けていた [1] [10] 。 心の支えとなっていた愛犬 チャッピー が姿を消し、しずかはタコピーから借りたハッピー道具「仲直りリボン」を使って首を吊ってしまう [4] 。 しずかの自殺にショックを受けたタコピーは、時間をさかのぼることができるハッピー道具の機能を使ってしずかを救おうと思い立つ [4] 。 2024年2月17日 明治大学商学部の入学試験で、漫画「タコピーの原罪」が出題され話題になっています。 現代文の問題に出題されたということです。 この記事では、 タコピーの原罪が明治大学商学部の現代文で出題! タコピーの性別は男と判明 についてまとめてみました。 スポンサーリンク 目次 タコピーの原罪が明治大学商学部の現代文で出題! タコピーの原罪は人気漫画 みんなの声 タコピーの性別は男と判明! まとめ タコピーの原罪が明治大学商学部の現代文で出題! 2024年の明治大学商学部の入学試験で、人気漫画 「タコピーの原罪」 が出題されたと話題になっています。 問題が出題されたのは、 現代文 の試験です。 明治商学部の試験にタコピー出てきた pic.twitter.com/BaKk6M02P5 いわゆるところのひみつ道具。 タコピーのママから教えられた掟では「必ずハッピー星人の目の届くところで使う」「異星人に道具を委ねてはならない」と定められている。 しかしタコピーはしずかちゃんのためにこの掟を破ってしまう。 なお、本日1月21日時点では、 少年ジャンプ＋ で『タコピーの原罪』1～7話が無料公開中。. 3月4日にはコミックス上巻も発売予定です。. まだ読んだことがない人は、 7話からではなく1話から読むことを強くオススメします。. できれば4話まで読んでみて ... 衝撃の話題作をまとめて読もう!. 文. 電撃オンライン. 公開日時. 2022年03月02日 (水) 15:50. 少年ジャンプ＋にて連載中の、タイザン5先生による漫画 『タコピーの原罪』 の単行本が上下巻で発売されます。. 上巻は3月4日、下巻は4月4日に発売予定です。.\u001b[0m\n",
      "Thought:\u001b[32;1m\u001b[1;3mThis search result did not provide the specific details I was looking for. I will try a different search.\n",
      "Action: duckduckgo-search\n",
      "Action Input: \"タコピーの原罪 詳細 概要\"\u001b[0m\n",
      "Observation: \u001b[36;1m\u001b[1;3mあらすじ 2016年 、 地球 にハッピーを広めるため来訪したハッピー星人 タコピー は、当時小学4年生の女子児童 久世しずか に窮地を救われる。 その礼として、複雑な環境下で笑顔を失った彼女を幸せにするべく、タコピーはハッピー星に伝わる様々な「ハッピー道具」で問題解決を図る [1] [10] 。 しずかは学校で同級生・ 雲母坂まりな によるいじめを受けていた [1] [10] 。 心の支えとなっていた愛犬 チャッピー が姿を消し、しずかはタコピーから借りたハッピー道具「仲直りリボン」を使って首を吊ってしまう [4] 。 しずかの自殺にショックを受けたタコピーは、時間をさかのぼることができるハッピー道具の機能を使ってしずかを救おうと思い立つ [4] 。 タコピーの原罪は、少年ジャンプ＋で連載された作品であり、全16話と読みやすい点が特徴です。 ハッピー星人のタコピーといじめられていた小学校4年生の少女しずかちゃんを中心に進むストーリーは残酷な内容が含まれ、連載中はネットでもやばいという感想が飛び交っていました。 本記事では、タコピーの原罪の最終回までのあらすじをネタバレ解説します。 タコピーの原罪というタイトルの考察や登場人物の紹介、作者が作品に込めた思いについても紹介するため、ぜひ最後まで内容を確認してみてください。 タコピーの原罪の最終回までのあらすじ 出典： https://www.pinterest.jp ここではタコピーの原罪のあらすじをご紹介します。 タコピーの原罪は、ジャンプ＋で全16話が掲載されました。 なお、本日1月21日時点では、 少年ジャンプ＋ で『タコピーの原罪』1～7話が無料公開中。. 3月4日にはコミックス上巻も発売予定です。. まだ読んだことがない人は、 7話からではなく1話から読むことを強くオススメします。. できれば4話まで読んでみて ... 【概要】 宇宙にハッピーを広めるため 地球 に降り立った 宇宙人 ・タコピー。 着陸初日から捕獲されそうになるわ食べ物もないわで苦労していたところ、 小学生の女の子・しずかちゃんと出会い助けられた。 助けてくれたお礼にタコピーはしずかちゃんの役に立とうとする、ハートフルなヒューマンドラマ─── ※警告※ ここから先はかなりの鬱展開と胸糞展開が待ち受けています。 耐性の無い方は閲覧を中止し直ぐにプラウザバックして下さい。 それでも閲覧するのであれば、自己責任でお願いいたします。 掟 決して異星人に道具を委ねてはならぬ ボロボロのランドセルを背負って笑わないしずかちゃんを笑わせようと、掟を破り道具を委ねたタコピー。 ウィキペディア タコピーの原罪 出典: フリー百科事典『ウィキペディア（Wikipedia）』 (2023/11/02 16:38 UTC 版) 製作背景 タイザン5は、もともと『SPY×FAMILY』などを読んでいたこと、高い注目度、自由な雰囲気などから『少年ジャンプ+』での連載を選んだという。 そこで、担当編集者から好きに描くことを勧められ、若干暗めな『ドラえもん』を描くことにした。 また、自らの好みに合わせ家庭問題を題材に決め、そこから話を展開させるためにループ物にしたという。 「幸せな場所から来た宇宙人が現代で困る」という展開になったため、まずタコピーのキャラクターができあがった [15] 。 最初の打ち合わせでストーリーの大枠が決められ、そこから各話のネームが作られた。\u001b[0m\n",
      "Thought:\u001b[32;1m\u001b[1;3mI have found the details about \"タコピーの原罪\" that I was looking for.\n",
      "Final Answer: \"タコピーの原罪\" is a manga series about a space alien named Takopi who comes to Earth to spread happiness and meets a young girl named Shizuka, and the story revolves around their interactions and struggles.\u001b[0m\n",
      "\n",
      "\u001b[1m> Finished chain.\u001b[0m\n",
      "User(System): 最近、昔の漫画を読み返してるんだよね。本当に懐かしい\n",
      "AI: 懐かしいって言われると、どんな漫画を読んでるのか気になるな～。何を読み返してるの？\n",
      "User(System): 以下のタコピーの原罪についての情報\n",
      "\n",
      "\"タコピーの原罪\" is a manga series about a space alien named Takopi who comes to Earth to spread happiness and meets a young girl named Shizuka, and the story revolves around their interactions and struggles.\n",
      "\n",
      "を使用して、トラック運転手との会話が弾むような話題を投げかけてください。話題を投げかける際は、そのトピックの詳細に踏み込んでいるとなおよいです。\n",
      "AI: \"タコピーの原罪\"って漫画、宇宙人のタコピーと小学生のしずかちゃんの友情がめっちゃ感動的なんだよ！トラック運転手さんも友情物の漫画好き？\n"
     ]
    }
   ],
   "source": [
    "search = DuckDuckGoSearchRun()\n",
    "\n",
    "tools = [\n",
    "    Tool(\n",
    "        name=\"duckduckgo-search\",\n",
    "        func=search.run,\n",
    "        description=\"useful for when you need to search for latest information in web\",\n",
    "        )\n",
    "    ]\n",
    "\n",
    "agent = initialize_agent(\n",
    "    tools=tools,\n",
    "    llm=lim,\n",
    "    agent=AgentType.ZERO_SHOT_REACT_DESCRIPTION, # AgentType.ZERO_SHOT_REACT_DESCRIPTIONとはなんだ\n",
    "    verbose=True\n",
    ")\n",
    "\n",
    "topic_source_word = \"タコピーの原罪\"\n",
    "\n",
    "result = agent.run(f\"\"\"\n",
    "            {topic_source_word}についてその詳細を教えてください。\n",
    "            \"\"\")\n",
    "\n",
    "command = input(\"You: \")\n",
    "print(f\"User(System): {command}\")\n",
    "response = conversation.predict(input=command)\n",
    "print(f\"AI: {response}\")\n",
    "time.sleep(0.1)\n",
    "# Systempromptとして指示を与えたい\n",
    "command = f\"以下の{topic_source_word}についての情報\\n\\n{result}\\n\\nを使用して、トラック運転手との会話が弾むような話題を投げかけてください。\\n話題を投げかける際は、会話の内容そのトピックの詳細に踏み込んでいるとなおよいです。\"\n",
    "print(f\"User(System): {command}\")\n",
    "response = conversation.predict(input=command)\n",
    "print(f\"AI: {response}\")\n",
    "\n",
    "\n",
    "# # json形式に変更した方が良いかも？\n",
    "# with open(f\"topic_source/{topic_source_word}.txt\", \"w\") as f:\n",
    "#     f.write(result)\n",
    "\n",
    "# loader = TextLoader(f\"topic_source/{topic_source_word}.txt\", autodetect_encoding=True)\n",
    "# docs = loader.load()\n",
    "# vector_store = Chroma.from_documents(docs, OpenAIEmbeddings())\n",
    "# retriever = vector_store.as_retriever()\n",
    "# qa_chain = RetrievalQA.from_llm(llm=lim, retriever=retriever)\n",
    "# new_topic = qa_chain.invoke({\"query\": f\"{topic_source_word}に関連するトラック運転手との会話が弾むような話題を投げかけてください。\"})[\"result\"]\n",
    "# print(new_topic)"
   ]
  },
  {
   "cell_type": "code",
   "execution_count": 3,
   "metadata": {},
   "outputs": [
    {
     "name": "stdout",
     "output_type": "stream",
     "text": [
      "Help on class TextLoader in module langchain_community.document_loaders.text:\n",
      "\n",
      "class TextLoader(langchain_community.document_loaders.base.BaseLoader)\n",
      " |  TextLoader(file_path: str, encoding: Optional[str] = None, autodetect_encoding: bool = False)\n",
      " |  \n",
      " |  Load text file.\n",
      " |  \n",
      " |  \n",
      " |  Args:\n",
      " |      file_path: Path to the file to load.\n",
      " |  \n",
      " |      encoding: File encoding to use. If `None`, the file will be loaded\n",
      " |      with the default system encoding.\n",
      " |  \n",
      " |      autodetect_encoding: Whether to try to autodetect the file encoding\n",
      " |          if the specified encoding fails.\n",
      " |  \n",
      " |  Method resolution order:\n",
      " |      TextLoader\n",
      " |      langchain_community.document_loaders.base.BaseLoader\n",
      " |      abc.ABC\n",
      " |      builtins.object\n",
      " |  \n",
      " |  Methods defined here:\n",
      " |  \n",
      " |  __init__(self, file_path: str, encoding: Optional[str] = None, autodetect_encoding: bool = False)\n",
      " |      Initialize with file path.\n",
      " |  \n",
      " |  load(self) -> List[langchain_core.documents.base.Document]\n",
      " |      Load from file path.\n",
      " |  \n",
      " |  ----------------------------------------------------------------------\n",
      " |  Data and other attributes defined here:\n",
      " |  \n",
      " |  __abstractmethods__ = frozenset()\n",
      " |  \n",
      " |  ----------------------------------------------------------------------\n",
      " |  Methods inherited from langchain_community.document_loaders.base.BaseLoader:\n",
      " |  \n",
      " |  lazy_load(self) -> 'Iterator[Document]'\n",
      " |      A lazy loader for Documents.\n",
      " |  \n",
      " |  load_and_split(self, text_splitter: 'Optional[TextSplitter]' = None) -> 'List[Document]'\n",
      " |      Load Documents and split into chunks. Chunks are returned as Documents.\n",
      " |      \n",
      " |      Args:\n",
      " |          text_splitter: TextSplitter instance to use for splitting documents.\n",
      " |            Defaults to RecursiveCharacterTextSplitter.\n",
      " |      \n",
      " |      Returns:\n",
      " |          List of Documents.\n",
      " |  \n",
      " |  ----------------------------------------------------------------------\n",
      " |  Data descriptors inherited from langchain_community.document_loaders.base.BaseLoader:\n",
      " |  \n",
      " |  __dict__\n",
      " |      dictionary for instance variables (if defined)\n",
      " |  \n",
      " |  __weakref__\n",
      " |      list of weak references to the object (if defined)\n",
      "\n"
     ]
    }
   ],
   "source": [
    "help(TextLoader)"
   ]
  }
 ],
 "metadata": {
  "kernelspec": {
   "display_name": "env",
   "language": "python",
   "name": "python3"
  },
  "language_info": {
   "codemirror_mode": {
    "name": "ipython",
    "version": 3
   },
   "file_extension": ".py",
   "mimetype": "text/x-python",
   "name": "python",
   "nbconvert_exporter": "python",
   "pygments_lexer": "ipython3",
   "version": "3.10.12"
  }
 },
 "nbformat": 4,
 "nbformat_minor": 2
}
