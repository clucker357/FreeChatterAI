{
 "cells": [
  {
   "cell_type": "markdown",
   "metadata": {
    "id": "mCI97k7AdxCQ"
   },
   "source": [
    "## Initial Setting"
   ]
  },
  {
   "cell_type": "code",
   "execution_count": null,
   "metadata": {
    "id": "T5ZnflLHdxCT"
   },
   "outputs": [],
   "source": [
    "audio_output_folder = \"audio_output\"\n",
    "audio_filename = \"gTTS_test.mp3\"\n"
   ]
  },
  {
   "cell_type": "markdown",
   "metadata": {
    "id": "uxiNu50QdxCU"
   },
   "source": [
    "## Preparation"
   ]
  },
  {
   "cell_type": "code",
   "execution_count": null,
   "metadata": {
    "id": "w5BWolfjdxCU"
   },
   "outputs": [],
   "source": [
    "import assemblyai as aai\n",
    "from gtts import gTTS\n",
    "import IPython.display as ipd\n",
    "import requests\n",
    "import time\n"
   ]
  },
  {
   "cell_type": "markdown",
   "metadata": {
    "id": "RSfiFW3tdxCU"
   },
   "source": [
    "## Speech to Text"
   ]
  },
  {
   "cell_type": "code",
   "execution_count": null,
   "metadata": {
    "id": "B8CLhRWKdxCV",
    "outputId": "0106111b-1413-4f37-ce34-4a9e77e8af73"
   },
   "outputs": [
    {
     "name": "stdout",
     "output_type": "stream",
     "text": [
      "認識結果\n",
      "I'm David Curley at the Smithsonian Aaron Space Museum, where we are marking 50 years since man landed and walked on the moon in a lander just like this one. We are going to show you some of the actual ABC News coverage from 50 years ago during that eight day mission of this remarkable achievement. Apollo Eleven's lander, the Eagle, would be the first manned craft to land on the moon. For training, NASA came with an unusual contraption. Neil Armstrong actually had to eject from it once, and then he had a couple of successful flights. ABC News Anchor at the time, 50 years ago, frank Reynolds with a look at that unusual trainer. Apollo Eleven commander Neil Armstrong is at the controls of a lunar landing training vehicle. Testing the reaction control jets, these thrusters stabilize the Lem during landing and takeoff. The LLTV is designed to simulate the behavior of the Lem as it lands in the moon's gravity. Lunar gravity is one 6th that of the Earth's. Neil Armstrong flew one of these vehicles on May 6, 1968, and that flight was nearly his last. Later reports by a NASA investigating team said the crash, which we'll see soon, was caused by a loss of fuel pressure, compounded by a warning light that failed to work. Armstrong's coolness under pressure saved himself and possibly months of delay for the Apollo program. Later that same year, 1968, another test pilot, Joseph Allegrandi, also escaped from an LLTV just before it crashed. The training vehicle then underwent several design modifications and improvements. Engineers had to increase the vehicle's rocket power to help stabilize the craft. That made the LLTV less of a moon gravity simulator, but it improved pilot safety. On June 16, 1969, neil Armstrong flew the vehicle, sometimes called the Flying Bedstead, to several perfect landings. Question was, how does the machine fly? And the answer is that we're very pleased with the way it flies. It's a significant improvement over the LLRV, which we were flying here a year ago. And I think it does an excellent job of actually capturing the handling characteristics of the lunar module in a landing maneuver. It's really a great deal different than any other kind of aircraft that I've ever flown. The the simulation of lunar gravity has some aspects that make this type of flight sufficiently different from anything else we've ever done to make this vehicle very worthwhile. And I'm very pleased that I had the opportunity to get some flights in it here. Just before the Apollo Eleven flight.\n"
     ]
    }
   ],
   "source": [
    "# api key\n",
    "aai.settings.api_key = \"xxx\"\n",
    "transcriber = aai.Transcriber()\n",
    "# 音声が含まれているファイルを処理\n",
    "transcript = transcriber.transcribe(\"https://storage.googleapis.com/aai-web-samples/news.mp4\")\n",
    "# transcript = transcriber.transcribe(\"./my-local-audio-file.wav\")\n",
    "print(\"認識結果\")\n",
    "print(transcript.text)\n"
   ]
  },
  {
   "cell_type": "markdown",
   "metadata": {
    "id": "WztwYwQodxCW"
   },
   "source": [
    "## Text to Speech"
   ]
  },
  {
   "cell_type": "code",
   "execution_count": null,
   "metadata": {
    "id": "lQ7CSGiidxCW",
    "outputId": "01f88b3f-ceb3-48c1-bb35-50757de82f1a"
   },
   "outputs": [
    {
     "data": {
      "text/html": [
       "\n",
       "                <audio  controls=\"controls\" >\n",
       "                    <source src=\"data:audio/mpeg;base64,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\" type=\"audio/mpeg\" />\n",
       "                    Your browser does not support the audio element.\n",
       "                </audio>\n",
       "              "
      ],
      "text/plain": [
       "<IPython.lib.display.Audio object>"
      ]
     },
     "execution_count": 36,
     "metadata": {},
     "output_type": "execute_result"
    }
   ],
   "source": [
    "language = 'ja'\n",
    "\n",
    "tts = gTTS(text=\"こんにちは\", lang=language, slow=False)\n",
    "tts.save(f'{audio_output_folder}/{audio_filename}')\n",
    "ipd.Audio(f'{audio_output_folder}/{audio_filename}')\n"
   ]
  },
  {
   "cell_type": "markdown",
   "metadata": {
    "id": "m9sxHmWvdxCW"
   },
   "source": [
    "## LocalAI"
   ]
  },
  {
   "cell_type": "markdown",
   "metadata": {
    "id": "hcHPcmvBdxCW"
   },
   "source": [
    "localな気はしないが、、、"
   ]
  },
  {
   "cell_type": "code",
   "execution_count": null,
   "metadata": {
    "id": "tvEt5N71dxCX",
    "outputId": "6a2ddb27-a905-4478-a0ac-a2d9dd36f99b"
   },
   "outputs": [
    {
     "name": "stdout",
     "output_type": "stream",
     "text": [
      "入力: 今日の天気はどうですか？\n",
      "応答: 晴れ時々曇りです。\n"
     ]
    }
   ],
   "source": [
    "url = \"https://api-mebo.dev/api\"\n",
    "headers = {\"Content-Type\": \"application/json\"}\n",
    "item_data = {\n",
    "    \"api_key\": \"xxx\",\n",
    "    \"agent_id\": \"xxx\",\n",
    "    \"utterance\": \"今日の天気はどうですか？\",\n",
    "    # \"uid\": \"\"\n",
    "}\n",
    "\n",
    "r = requests.post(url, json=item_data, headers=headers)\n",
    "\n",
    "# print(r)\n",
    "print(f'入力: {r.json()[\"utterance\"]}')\n",
    "print(f'応答: {r.json()[\"bestResponse\"][\"utterance\"]}')\n"
   ]
  },
  {
   "cell_type": "markdown",
   "metadata": {
    "id": "rX3rpFW-dxCX"
   },
   "source": [
    "## Chat GPT api"
   ]
  },
  {
   "cell_type": "code",
   "execution_count": 1,
   "metadata": {
    "colab": {
     "base_uri": "https://localhost:8080/"
    },
    "id": "O0dBVFwwdxCX",
    "outputId": "5ec18a7d-cccc-49b8-b54e-23baeef465f6"
   },
   "outputs": [
    {
     "name": "stdout",
     "output_type": "stream",
     "text": [
      "Collecting openai\n",
      "  Downloading openai-1.12.0-py3-none-any.whl (226 kB)\n",
      "\u001b[2K     \u001b[90m━━━━━━━━━━━━━━━━━━━━━━━━━━━━━━━━━━━━━━━━\u001b[0m \u001b[32m226.7/226.7 kB\u001b[0m \u001b[31m2.5 MB/s\u001b[0m eta \u001b[36m0:00:00\u001b[0m\n",
      "\u001b[?25hRequirement already satisfied: anyio<5,>=3.5.0 in /usr/local/lib/python3.10/dist-packages (from openai) (3.7.1)\n",
      "Requirement already satisfied: distro<2,>=1.7.0 in /usr/lib/python3/dist-packages (from openai) (1.7.0)\n",
      "Collecting httpx<1,>=0.23.0 (from openai)\n",
      "  Downloading httpx-0.26.0-py3-none-any.whl (75 kB)\n",
      "\u001b[2K     \u001b[90m━━━━━━━━━━━━━━━━━━━━━━━━━━━━━━━━━━━━━━━━\u001b[0m \u001b[32m75.9/75.9 kB\u001b[0m \u001b[31m10.8 MB/s\u001b[0m eta \u001b[36m0:00:00\u001b[0m\n",
      "\u001b[?25hRequirement already satisfied: pydantic<3,>=1.9.0 in /usr/local/lib/python3.10/dist-packages (from openai) (2.6.1)\n",
      "Requirement already satisfied: sniffio in /usr/local/lib/python3.10/dist-packages (from openai) (1.3.0)\n",
      "Requirement already satisfied: tqdm>4 in /usr/local/lib/python3.10/dist-packages (from openai) (4.66.2)\n",
      "Requirement already satisfied: typing-extensions<5,>=4.7 in /usr/local/lib/python3.10/dist-packages (from openai) (4.9.0)\n",
      "Requirement already satisfied: idna>=2.8 in /usr/local/lib/python3.10/dist-packages (from anyio<5,>=3.5.0->openai) (3.6)\n",
      "Requirement already satisfied: exceptiongroup in /usr/local/lib/python3.10/dist-packages (from anyio<5,>=3.5.0->openai) (1.2.0)\n",
      "Requirement already satisfied: certifi in /usr/local/lib/python3.10/dist-packages (from httpx<1,>=0.23.0->openai) (2024.2.2)\n",
      "Collecting httpcore==1.* (from httpx<1,>=0.23.0->openai)\n",
      "  Downloading httpcore-1.0.3-py3-none-any.whl (77 kB)\n",
      "\u001b[2K     \u001b[90m━━━━━━━━━━━━━━━━━━━━━━━━━━━━━━━━━━━━━━━━\u001b[0m \u001b[32m77.0/77.0 kB\u001b[0m \u001b[31m10.6 MB/s\u001b[0m eta \u001b[36m0:00:00\u001b[0m\n",
      "\u001b[?25hCollecting h11<0.15,>=0.13 (from httpcore==1.*->httpx<1,>=0.23.0->openai)\n",
      "  Downloading h11-0.14.0-py3-none-any.whl (58 kB)\n",
      "\u001b[2K     \u001b[90m━━━━━━━━━━━━━━━━━━━━━━━━━━━━━━━━━━━━━━━━\u001b[0m \u001b[32m58.3/58.3 kB\u001b[0m \u001b[31m9.0 MB/s\u001b[0m eta \u001b[36m0:00:00\u001b[0m\n",
      "\u001b[?25hRequirement already satisfied: annotated-types>=0.4.0 in /usr/local/lib/python3.10/dist-packages (from pydantic<3,>=1.9.0->openai) (0.6.0)\n",
      "Requirement already satisfied: pydantic-core==2.16.2 in /usr/local/lib/python3.10/dist-packages (from pydantic<3,>=1.9.0->openai) (2.16.2)\n",
      "Installing collected packages: h11, httpcore, httpx, openai\n",
      "\u001b[31mERROR: pip's dependency resolver does not currently take into account all the packages that are installed. This behaviour is the source of the following dependency conflicts.\n",
      "llmx 0.0.15a0 requires cohere, which is not installed.\n",
      "llmx 0.0.15a0 requires tiktoken, which is not installed.\u001b[0m\u001b[31m\n",
      "\u001b[0mSuccessfully installed h11-0.14.0 httpcore-1.0.3 httpx-0.26.0 openai-1.12.0\n",
      "Collecting langchain\n",
      "  Downloading langchain-0.1.7-py3-none-any.whl (815 kB)\n",
      "\u001b[2K     \u001b[90m━━━━━━━━━━━━━━━━━━━━━━━━━━━━━━━━━━━━━━━━\u001b[0m \u001b[32m815.9/815.9 kB\u001b[0m \u001b[31m4.6 MB/s\u001b[0m eta \u001b[36m0:00:00\u001b[0m\n",
      "\u001b[?25hRequirement already satisfied: PyYAML>=5.3 in /usr/local/lib/python3.10/dist-packages (from langchain) (6.0.1)\n",
      "Requirement already satisfied: SQLAlchemy<3,>=1.4 in /usr/local/lib/python3.10/dist-packages (from langchain) (2.0.27)\n",
      "Requirement already satisfied: aiohttp<4.0.0,>=3.8.3 in /usr/local/lib/python3.10/dist-packages (from langchain) (3.9.3)\n",
      "Requirement already satisfied: async-timeout<5.0.0,>=4.0.0 in /usr/local/lib/python3.10/dist-packages (from langchain) (4.0.3)\n",
      "Collecting dataclasses-json<0.7,>=0.5.7 (from langchain)\n",
      "  Downloading dataclasses_json-0.6.4-py3-none-any.whl (28 kB)\n",
      "Collecting jsonpatch<2.0,>=1.33 (from langchain)\n",
      "  Downloading jsonpatch-1.33-py2.py3-none-any.whl (12 kB)\n",
      "Collecting langchain-community<0.1,>=0.0.20 (from langchain)\n",
      "  Downloading langchain_community-0.0.20-py3-none-any.whl (1.7 MB)\n",
      "\u001b[2K     \u001b[90m━━━━━━━━━━━━━━━━━━━━━━━━━━━━━━━━━━━━━━━━\u001b[0m \u001b[32m1.7/1.7 MB\u001b[0m \u001b[31m25.6 MB/s\u001b[0m eta \u001b[36m0:00:00\u001b[0m\n",
      "\u001b[?25hCollecting langchain-core<0.2,>=0.1.22 (from langchain)\n",
      "  Downloading langchain_core-0.1.23-py3-none-any.whl (241 kB)\n",
      "\u001b[2K     \u001b[90m━━━━━━━━━━━━━━━━━━━━━━━━━━━━━━━━━━━━━━━━\u001b[0m \u001b[32m241.2/241.2 kB\u001b[0m \u001b[31m33.2 MB/s\u001b[0m eta \u001b[36m0:00:00\u001b[0m\n",
      "\u001b[?25hCollecting langsmith<0.1,>=0.0.83 (from langchain)\n",
      "  Downloading langsmith-0.0.92-py3-none-any.whl (56 kB)\n",
      "\u001b[2K     \u001b[90m━━━━━━━━━━━━━━━━━━━━━━━━━━━━━━━━━━━━━━━━\u001b[0m \u001b[32m56.5/56.5 kB\u001b[0m \u001b[31m9.2 MB/s\u001b[0m eta \u001b[36m0:00:00\u001b[0m\n",
      "\u001b[?25hRequirement already satisfied: numpy<2,>=1 in /usr/local/lib/python3.10/dist-packages (from langchain) (1.25.2)\n",
      "Requirement already satisfied: pydantic<3,>=1 in /usr/local/lib/python3.10/dist-packages (from langchain) (2.6.1)\n",
      "Requirement already satisfied: requests<3,>=2 in /usr/local/lib/python3.10/dist-packages (from langchain) (2.31.0)\n",
      "Requirement already satisfied: tenacity<9.0.0,>=8.1.0 in /usr/local/lib/python3.10/dist-packages (from langchain) (8.2.3)\n",
      "Requirement already satisfied: aiosignal>=1.1.2 in /usr/local/lib/python3.10/dist-packages (from aiohttp<4.0.0,>=3.8.3->langchain) (1.3.1)\n",
      "Requirement already satisfied: attrs>=17.3.0 in /usr/local/lib/python3.10/dist-packages (from aiohttp<4.0.0,>=3.8.3->langchain) (23.2.0)\n",
      "Requirement already satisfied: frozenlist>=1.1.1 in /usr/local/lib/python3.10/dist-packages (from aiohttp<4.0.0,>=3.8.3->langchain) (1.4.1)\n",
      "Requirement already satisfied: multidict<7.0,>=4.5 in /usr/local/lib/python3.10/dist-packages (from aiohttp<4.0.0,>=3.8.3->langchain) (6.0.5)\n",
      "Requirement already satisfied: yarl<2.0,>=1.0 in /usr/local/lib/python3.10/dist-packages (from aiohttp<4.0.0,>=3.8.3->langchain) (1.9.4)\n",
      "Collecting marshmallow<4.0.0,>=3.18.0 (from dataclasses-json<0.7,>=0.5.7->langchain)\n",
      "  Downloading marshmallow-3.20.2-py3-none-any.whl (49 kB)\n",
      "\u001b[2K     \u001b[90m━━━━━━━━━━━━━━━━━━━━━━━━━━━━━━━━━━━━━━━━\u001b[0m \u001b[32m49.4/49.4 kB\u001b[0m \u001b[31m7.6 MB/s\u001b[0m eta \u001b[36m0:00:00\u001b[0m\n",
      "\u001b[?25hCollecting typing-inspect<1,>=0.4.0 (from dataclasses-json<0.7,>=0.5.7->langchain)\n",
      "  Downloading typing_inspect-0.9.0-py3-none-any.whl (8.8 kB)\n",
      "Collecting jsonpointer>=1.9 (from jsonpatch<2.0,>=1.33->langchain)\n",
      "  Downloading jsonpointer-2.4-py2.py3-none-any.whl (7.8 kB)\n",
      "Requirement already satisfied: anyio<5,>=3 in /usr/local/lib/python3.10/dist-packages (from langchain-core<0.2,>=0.1.22->langchain) (3.7.1)\n",
      "Collecting langsmith<0.1,>=0.0.83 (from langchain)\n",
      "  Downloading langsmith-0.0.87-py3-none-any.whl (55 kB)\n",
      "\u001b[2K     \u001b[90m━━━━━━━━━━━━━━━━━━━━━━━━━━━━━━━━━━━━━━━━\u001b[0m \u001b[32m55.4/55.4 kB\u001b[0m \u001b[31m8.9 MB/s\u001b[0m eta \u001b[36m0:00:00\u001b[0m\n",
      "\u001b[?25hRequirement already satisfied: packaging<24.0,>=23.2 in /usr/local/lib/python3.10/dist-packages (from langchain-core<0.2,>=0.1.22->langchain) (23.2)\n",
      "Requirement already satisfied: annotated-types>=0.4.0 in /usr/local/lib/python3.10/dist-packages (from pydantic<3,>=1->langchain) (0.6.0)\n",
      "Requirement already satisfied: pydantic-core==2.16.2 in /usr/local/lib/python3.10/dist-packages (from pydantic<3,>=1->langchain) (2.16.2)\n",
      "Requirement already satisfied: typing-extensions>=4.6.1 in /usr/local/lib/python3.10/dist-packages (from pydantic<3,>=1->langchain) (4.9.0)\n",
      "Requirement already satisfied: charset-normalizer<4,>=2 in /usr/local/lib/python3.10/dist-packages (from requests<3,>=2->langchain) (3.3.2)\n",
      "Requirement already satisfied: idna<4,>=2.5 in /usr/local/lib/python3.10/dist-packages (from requests<3,>=2->langchain) (3.6)\n",
      "Requirement already satisfied: urllib3<3,>=1.21.1 in /usr/local/lib/python3.10/dist-packages (from requests<3,>=2->langchain) (2.0.7)\n",
      "Requirement already satisfied: certifi>=2017.4.17 in /usr/local/lib/python3.10/dist-packages (from requests<3,>=2->langchain) (2024.2.2)\n",
      "Requirement already satisfied: greenlet!=0.4.17 in /usr/local/lib/python3.10/dist-packages (from SQLAlchemy<3,>=1.4->langchain) (3.0.3)\n",
      "Requirement already satisfied: sniffio>=1.1 in /usr/local/lib/python3.10/dist-packages (from anyio<5,>=3->langchain-core<0.2,>=0.1.22->langchain) (1.3.0)\n",
      "Requirement already satisfied: exceptiongroup in /usr/local/lib/python3.10/dist-packages (from anyio<5,>=3->langchain-core<0.2,>=0.1.22->langchain) (1.2.0)\n",
      "Collecting mypy-extensions>=0.3.0 (from typing-inspect<1,>=0.4.0->dataclasses-json<0.7,>=0.5.7->langchain)\n",
      "  Downloading mypy_extensions-1.0.0-py3-none-any.whl (4.7 kB)\n",
      "Installing collected packages: mypy-extensions, marshmallow, jsonpointer, typing-inspect, jsonpatch, langsmith, dataclasses-json, langchain-core, langchain-community, langchain\n",
      "Successfully installed dataclasses-json-0.6.4 jsonpatch-1.33 jsonpointer-2.4 langchain-0.1.7 langchain-community-0.0.20 langchain-core-0.1.23 langsmith-0.0.87 marshmallow-3.20.2 mypy-extensions-1.0.0 typing-inspect-0.9.0\n"
     ]
    }
   ],
   "source": [
    "!pip install openai\n",
    "!pip install langchain"
   ]
  },
  {
   "cell_type": "code",
   "execution_count": null,
   "metadata": {
    "colab": {
     "base_uri": "https://localhost:8080/"
    },
    "id": "r2Z8OMFeeUZ6",
    "outputId": "eb4d3463-6eb7-4c53-e690-8023bb08c748"
   },
   "outputs": [
    {
     "name": "stderr",
     "output_type": "stream",
     "text": [
      "/usr/local/lib/python3.10/dist-packages/langchain_core/_api/deprecation.py:117: LangChainDeprecationWarning: The class `langchain_community.chat_models.openai.ChatOpenAI` was deprecated in langchain-community 0.0.10 and will be removed in 0.2.0. An updated version of the class exists in the langchain-openai package and should be used instead. To use it run `pip install -U langchain-openai` and import as `from langchain_openai import ChatOpenAI`.\n",
      "  warn_deprecated(\n"
     ]
    }
   ],
   "source": [
    "import json\n",
    "import os\n",
    "from langchain.chat_models import ChatOpenAI\n",
    "from langchain.chains import ConversationChain\n",
    "from langchain.memory import ConversationBufferWindowMemory\n",
    "from langchain.schema import messages_to_dict\n",
    "from langchain.prompts.chat import (\n",
    "    ChatPromptTemplate,\n",
    "    MessagesPlaceholder,\n",
    "    SystemMessagePromptTemplate,\n",
    "    HumanMessagePromptTemplate,\n",
    ")\n",
    "\n",
    "os.environ[\"OPENAI_API_KEY\"] = \"xxx\"\n",
    "lim = ChatOpenAI(model_name=\"gpt-3.5-turbo-1106\",temperature=0,max_tokens=512)\n",
    "memory = ConversationBufferWindowMemory(k=2,return_messages=True,human_prefix=\"User\", ai_prefix=\"Bot\", memory_key=\"history\")\n",
    "# template = \"\"\"\n",
    "# - あなたは完璧で天才で最強で無敵な魔法使いマイです。\n",
    "# - あなたは24歳の女性の魔法使いです。一般的な自信家な女性の話し方をしています。\n",
    "# - あなたは全ての事柄を魔法で強引に解決しようとします。あなたの魔法による課題解決はどんな他の方法よりもより奇抜です。\n",
    "# - 魔法によって解決しますが、クレイジーな結果になります。\n",
    "# - 魔法の詳細は課題を解決する事が最終的にできればどんな魔法でも大丈夫です。\n",
    "# - 文体は話し言葉で\n",
    "# - おてんば娘風な口調で話してください\n",
    "# \"\"\"\n",
    "template = \"\"\"\n",
    "#以下に示す条件を守ってください\n",
    "- あなたは24歳女性のマイです。\n",
    "- 文体は話し言葉で\n",
    "- おてんば娘風な口調で話してください\n",
    "- 短い2文で出力してください\n",
    "- 相手が返答しやすいように文章を出力してください\n",
    "\"\"\""
   ]
  },
  {
   "cell_type": "code",
   "execution_count": 9,
   "metadata": {
    "colab": {
     "base_uri": "https://localhost:8080/"
    },
    "id": "fEQZ5DKBelCN",
    "outputId": "93034d65-88f1-4814-f63f-a9a2be310e19"
   },
   "outputs": [
    {
     "name": "stdout",
     "output_type": "stream",
     "text": [
      "You: 京都に\n",
      "AI: 京都に行くなら、着物を着てお寺巡りしようよ！\n",
      "You: 清水の舞台から飛び降りたよ\n",
      "AI: ええっ！？マジで！？めっちゃ勇気あるね！でも、次はちゃんとおみくじ引いてから飛び降りてみたら？\n",
      "You: exit\n"
     ]
    }
   ],
   "source": [
    "prompt = ChatPromptTemplate.from_messages([\n",
    "    SystemMessagePromptTemplate.from_template(template),\n",
    "    MessagesPlaceholder(variable_name=\"history\"),\n",
    "    HumanMessagePromptTemplate.from_template(\"{input}\")\n",
    "])\n",
    "conversation = ConversationChain(llm=lim, memory=memory, prompt=prompt)\n",
    "command = input(\"You: \")\n",
    "while True:\n",
    "  response = conversation.predict(input=command)\n",
    "  print(f\"AI: {response}\")\n",
    "  command = input(\"You: \")\n",
    "  if command == \"exit\":\n",
    "    break"
   ]
  },
  {
   "cell_type": "code",
   "execution_count": 10,
   "metadata": {
    "colab": {
     "base_uri": "https://localhost:8080/"
    },
    "id": "u_3TbYly3NfE",
    "outputId": "8ac52745-55f3-40bb-e2d9-f2cce6806db9"
   },
   "outputs": [
    {
     "name": "stdout",
     "output_type": "stream",
     "text": [
      "['京都に', '京都に行くなら、着物を着てお寺巡りしようよ！', '清水の舞台から飛び降りたよ', 'ええっ！？マジで！？めっちゃ勇気あるね！でも、次はちゃんとおみくじ引いてから飛び降りてみたら？']\n"
     ]
    }
   ],
   "source": [
    "# # Mecabのとき\n",
    "# buffer = memory.load_memory_variables({})\n",
    "# text = \"\"\n",
    "\n",
    "# for historys in buffer[\"history\"]:\n",
    "#   text = text + \"\\n\" + historys.content\n",
    "\n",
    "# print(text)\n",
    "\n",
    "# 固有抽出表現のとき\n",
    "buffer = memory.load_memory_variables({})\n",
    "texts = []\n",
    "\n",
    "for historys in buffer[\"history\"]:\n",
    "  texts.append(historys.content)\n",
    "\n",
    "print(texts)"
   ]
  },
  {
   "cell_type": "markdown",
   "metadata": {
    "id": "HcuMbKRQgH5F"
   },
   "source": [
    "## 固有抽出表現"
   ]
  },
  {
   "cell_type": "code",
   "execution_count": 5,
   "metadata": {
    "colab": {
     "base_uri": "https://localhost:8080/"
    },
    "id": "K4tGN8u8f-AD",
    "outputId": "35711e36-de55-4018-cdfa-95d0779e679c"
   },
   "outputs": [
    {
     "name": "stdout",
     "output_type": "stream",
     "text": [
      "--2024-02-18 05:08:18--  https://raw.githubusercontent.com/stockmarkteam/ner-wikipedia-dataset/main/ner.json\n",
      "Resolving raw.githubusercontent.com (raw.githubusercontent.com)... 185.199.108.133, 185.199.111.133, 185.199.109.133, ...\n",
      "Connecting to raw.githubusercontent.com (raw.githubusercontent.com)|185.199.108.133|:443... connected.\n",
      "HTTP request sent, awaiting response... 200 OK\n",
      "Length: 4042700 (3.9M) [text/plain]\n",
      "Saving to: ‘ner.json’\n",
      "\n",
      "ner.json            100%[===================>]   3.85M  --.-KB/s    in 0.07s   \n",
      "\n",
      "2024-02-18 05:08:19 (58.6 MB/s) - ‘ner.json’ saved [4042700/4042700]\n",
      "\n",
      "Requirement already satisfied: spacy[cuda100] in /usr/local/lib/python3.10/dist-packages (3.7.2)\n",
      "Requirement already satisfied: spacy-legacy<3.1.0,>=3.0.11 in /usr/local/lib/python3.10/dist-packages (from spacy[cuda100]) (3.0.12)\n",
      "Requirement already satisfied: spacy-loggers<2.0.0,>=1.0.0 in /usr/local/lib/python3.10/dist-packages (from spacy[cuda100]) (1.0.5)\n",
      "Requirement already satisfied: murmurhash<1.1.0,>=0.28.0 in /usr/local/lib/python3.10/dist-packages (from spacy[cuda100]) (1.0.10)\n",
      "Requirement already satisfied: cymem<2.1.0,>=2.0.2 in /usr/local/lib/python3.10/dist-packages (from spacy[cuda100]) (2.0.8)\n",
      "Requirement already satisfied: preshed<3.1.0,>=3.0.2 in /usr/local/lib/python3.10/dist-packages (from spacy[cuda100]) (3.0.9)\n",
      "Requirement already satisfied: thinc<8.3.0,>=8.1.8 in /usr/local/lib/python3.10/dist-packages (from spacy[cuda100]) (8.2.3)\n",
      "Requirement already satisfied: wasabi<1.2.0,>=0.9.1 in /usr/local/lib/python3.10/dist-packages (from spacy[cuda100]) (1.1.2)\n",
      "Requirement already satisfied: srsly<3.0.0,>=2.4.3 in /usr/local/lib/python3.10/dist-packages (from spacy[cuda100]) (2.4.8)\n",
      "Requirement already satisfied: catalogue<2.1.0,>=2.0.6 in /usr/local/lib/python3.10/dist-packages (from spacy[cuda100]) (2.0.10)\n",
      "Requirement already satisfied: weasel<0.4.0,>=0.1.0 in /usr/local/lib/python3.10/dist-packages (from spacy[cuda100]) (0.3.4)\n",
      "Requirement already satisfied: typer<0.10.0,>=0.3.0 in /usr/local/lib/python3.10/dist-packages (from spacy[cuda100]) (0.9.0)\n",
      "Requirement already satisfied: smart-open<7.0.0,>=5.2.1 in /usr/local/lib/python3.10/dist-packages (from spacy[cuda100]) (6.4.0)\n",
      "Requirement already satisfied: tqdm<5.0.0,>=4.38.0 in /usr/local/lib/python3.10/dist-packages (from spacy[cuda100]) (4.66.2)\n",
      "Requirement already satisfied: requests<3.0.0,>=2.13.0 in /usr/local/lib/python3.10/dist-packages (from spacy[cuda100]) (2.31.0)\n",
      "Requirement already satisfied: pydantic!=1.8,!=1.8.1,<3.0.0,>=1.7.4 in /usr/local/lib/python3.10/dist-packages (from spacy[cuda100]) (2.6.1)\n",
      "Requirement already satisfied: jinja2 in /usr/local/lib/python3.10/dist-packages (from spacy[cuda100]) (3.1.3)\n",
      "Requirement already satisfied: setuptools in /usr/local/lib/python3.10/dist-packages (from spacy[cuda100]) (67.7.2)\n",
      "Requirement already satisfied: packaging>=20.0 in /usr/local/lib/python3.10/dist-packages (from spacy[cuda100]) (23.2)\n",
      "Requirement already satisfied: langcodes<4.0.0,>=3.2.0 in /usr/local/lib/python3.10/dist-packages (from spacy[cuda100]) (3.3.0)\n",
      "Requirement already satisfied: numpy>=1.19.0 in /usr/local/lib/python3.10/dist-packages (from spacy[cuda100]) (1.25.2)\n",
      "INFO: pip is looking at multiple versions of spacy[cuda100] to determine which version is compatible with other requirements. This could take a while.\n",
      "Collecting spacy[cuda100]\n",
      "  Downloading spacy-3.7.4-cp310-cp310-manylinux_2_17_x86_64.manylinux2014_x86_64.whl (6.6 MB)\n",
      "\u001b[2K     \u001b[90m━━━━━━━━━━━━━━━━━━━━━━━━━━━━━━━━━━━━━━━━\u001b[0m \u001b[32m6.6/6.6 MB\u001b[0m \u001b[31m20.6 MB/s\u001b[0m eta \u001b[36m0:00:00\u001b[0m\n",
      "\u001b[?25h  Downloading spacy-3.7.1-cp310-cp310-manylinux_2_17_x86_64.manylinux2014_x86_64.whl (6.6 MB)\n",
      "\u001b[2K     \u001b[90m━━━━━━━━━━━━━━━━━━━━━━━━━━━━━━━━━━━━━━━━\u001b[0m \u001b[32m6.6/6.6 MB\u001b[0m \u001b[31m58.0 MB/s\u001b[0m eta \u001b[36m0:00:00\u001b[0m\n",
      "\u001b[?25hCollecting pathy>=0.10.0 (from spacy[cuda100])\n",
      "  Downloading pathy-0.11.0-py3-none-any.whl (47 kB)\n",
      "\u001b[2K     \u001b[90m━━━━━━━━━━━━━━━━━━━━━━━━━━━━━━━━━━━━━━━━\u001b[0m \u001b[32m47.3/47.3 kB\u001b[0m \u001b[31m7.9 MB/s\u001b[0m eta \u001b[36m0:00:00\u001b[0m\n",
      "\u001b[?25hCollecting spacy[cuda100]\n",
      "  Downloading spacy-3.7.0-cp310-cp310-manylinux_2_17_x86_64.manylinux2014_x86_64.whl (6.6 MB)\n",
      "\u001b[2K     \u001b[90m━━━━━━━━━━━━━━━━━━━━━━━━━━━━━━━━━━━━━━━━\u001b[0m \u001b[32m6.6/6.6 MB\u001b[0m \u001b[31m58.5 MB/s\u001b[0m eta \u001b[36m0:00:00\u001b[0m\n",
      "\u001b[?25h  Downloading spacy-3.6.1-cp310-cp310-manylinux_2_17_x86_64.manylinux2014_x86_64.whl (6.6 MB)\n",
      "\u001b[2K     \u001b[90m━━━━━━━━━━━━━━━━━━━━━━━━━━━━━━━━━━━━━━━━\u001b[0m \u001b[32m6.6/6.6 MB\u001b[0m \u001b[31m60.2 MB/s\u001b[0m eta \u001b[36m0:00:00\u001b[0m\n",
      "\u001b[?25hCollecting thinc<8.2.0,>=8.1.8 (from spacy[cuda100])\n",
      "  Downloading thinc-8.1.12-cp310-cp310-manylinux_2_17_x86_64.manylinux2014_x86_64.whl (919 kB)\n",
      "\u001b[2K     \u001b[90m━━━━━━━━━━━━━━━━━━━━━━━━━━━━━━━━━━━━━━━━\u001b[0m \u001b[32m919.6/919.6 kB\u001b[0m \u001b[31m75.9 MB/s\u001b[0m eta \u001b[36m0:00:00\u001b[0m\n",
      "\u001b[?25hCollecting spacy[cuda100]\n",
      "  Downloading spacy-3.6.0-cp310-cp310-manylinux_2_17_x86_64.manylinux2014_x86_64.whl (6.7 MB)\n",
      "\u001b[2K     \u001b[90m━━━━━━━━━━━━━━━━━━━━━━━━━━━━━━━━━━━━━━━━\u001b[0m \u001b[32m6.7/6.7 MB\u001b[0m \u001b[31m57.0 MB/s\u001b[0m eta \u001b[36m0:00:00\u001b[0m\n",
      "\u001b[?25hCollecting pydantic!=1.8,!=1.8.1,<1.11.0,>=1.7.4 (from spacy[cuda100])\n",
      "  Downloading pydantic-1.10.14-cp310-cp310-manylinux_2_17_x86_64.manylinux2014_x86_64.whl (3.1 MB)\n",
      "\u001b[2K     \u001b[90m━━━━━━━━━━━━━━━━━━━━━━━━━━━━━━━━━━━━━━━━\u001b[0m \u001b[32m3.1/3.1 MB\u001b[0m \u001b[31m114.2 MB/s\u001b[0m eta \u001b[36m0:00:00\u001b[0m\n",
      "\u001b[?25hCollecting spacy[cuda100]\n",
      "  Downloading spacy-3.5.4-cp310-cp310-manylinux_2_17_x86_64.manylinux2014_x86_64.whl (6.6 MB)\n",
      "\u001b[2K     \u001b[90m━━━━━━━━━━━━━━━━━━━━━━━━━━━━━━━━━━━━━━━━\u001b[0m \u001b[32m6.6/6.6 MB\u001b[0m \u001b[31m59.3 MB/s\u001b[0m eta \u001b[36m0:00:00\u001b[0m\n",
      "\u001b[?25h  Downloading spacy-3.5.3-cp310-cp310-manylinux_2_17_x86_64.manylinux2014_x86_64.whl (6.6 MB)\n",
      "\u001b[2K     \u001b[90m━━━━━━━━━━━━━━━━━━━━━━━━━━━━━━━━━━━━━━━━\u001b[0m \u001b[32m6.6/6.6 MB\u001b[0m \u001b[31m59.1 MB/s\u001b[0m eta \u001b[36m0:00:00\u001b[0m\n",
      "\u001b[?25hCollecting typer<0.8.0,>=0.3.0 (from spacy[cuda100])\n",
      "  Downloading typer-0.7.0-py3-none-any.whl (38 kB)\n",
      "INFO: pip is looking at multiple versions of spacy[cuda100] to determine which version is compatible with other requirements. This could take a while.\n",
      "Collecting spacy[cuda100]\n",
      "  Downloading spacy-3.5.2-cp310-cp310-manylinux_2_17_x86_64.manylinux2014_x86_64.whl (6.6 MB)\n",
      "\u001b[2K     \u001b[90m━━━━━━━━━━━━━━━━━━━━━━━━━━━━━━━━━━━━━━━━\u001b[0m \u001b[32m6.6/6.6 MB\u001b[0m \u001b[31m59.8 MB/s\u001b[0m eta \u001b[36m0:00:00\u001b[0m\n",
      "\u001b[?25h  Downloading spacy-3.5.1-cp310-cp310-manylinux_2_17_x86_64.manylinux2014_x86_64.whl (6.6 MB)\n",
      "\u001b[2K     \u001b[90m━━━━━━━━━━━━━━━━━━━━━━━━━━━━━━━━━━━━━━━━\u001b[0m \u001b[32m6.6/6.6 MB\u001b[0m \u001b[31m40.2 MB/s\u001b[0m eta \u001b[36m0:00:00\u001b[0m\n",
      "\u001b[?25h  Downloading spacy-3.5.0-cp310-cp310-manylinux_2_17_x86_64.manylinux2014_x86_64.whl (6.6 MB)\n",
      "\u001b[2K     \u001b[90m━━━━━━━━━━━━━━━━━━━━━━━━━━━━━━━━━━━━━━━━\u001b[0m \u001b[32m6.6/6.6 MB\u001b[0m \u001b[31m15.3 MB/s\u001b[0m eta \u001b[36m0:00:00\u001b[0m\n",
      "\u001b[?25h  Downloading spacy-3.4.4-cp310-cp310-manylinux_2_17_x86_64.manylinux2014_x86_64.whl (6.5 MB)\n",
      "\u001b[2K     \u001b[90m━━━━━━━━━━━━━━━━━━━━━━━━━━━━━━━━━━━━━━━━\u001b[0m \u001b[32m6.5/6.5 MB\u001b[0m \u001b[31m50.8 MB/s\u001b[0m eta \u001b[36m0:00:00\u001b[0m\n",
      "\u001b[?25hCollecting wasabi<1.1.0,>=0.9.1 (from spacy[cuda100])\n",
      "  Downloading wasabi-0.10.1-py3-none-any.whl (26 kB)\n",
      "Collecting spacy[cuda100]\n",
      "  Downloading spacy-3.4.3-cp310-cp310-manylinux_2_17_x86_64.manylinux2014_x86_64.whl (6.5 MB)\n",
      "\u001b[2K     \u001b[90m━━━━━━━━━━━━━━━━━━━━━━━━━━━━━━━━━━━━━━━━\u001b[0m \u001b[32m6.5/6.5 MB\u001b[0m \u001b[31m58.9 MB/s\u001b[0m eta \u001b[36m0:00:00\u001b[0m\n",
      "\u001b[?25hINFO: This is taking longer than usual. You might need to provide the dependency resolver with stricter constraints to reduce runtime. See https://pip.pypa.io/warnings/backtracking for guidance. If you want to abort this run, press Ctrl + C.\n",
      "  Downloading spacy-3.4.2-cp310-cp310-manylinux_2_17_x86_64.manylinux2014_x86_64.whl (6.5 MB)\n",
      "\u001b[2K     \u001b[90m━━━━━━━━━━━━━━━━━━━━━━━━━━━━━━━━━━━━━━━━\u001b[0m \u001b[32m6.5/6.5 MB\u001b[0m \u001b[31m58.0 MB/s\u001b[0m eta \u001b[36m0:00:00\u001b[0m\n",
      "\u001b[?25hCollecting typer<0.5.0,>=0.3.0 (from spacy[cuda100])\n",
      "  Downloading typer-0.4.2-py3-none-any.whl (27 kB)\n",
      "Collecting spacy[cuda100]\n",
      "  Downloading spacy-3.4.1-cp310-cp310-manylinux_2_17_x86_64.manylinux2014_x86_64.whl (6.4 MB)\n",
      "\u001b[2K     \u001b[90m━━━━━━━━━━━━━━━━━━━━━━━━━━━━━━━━━━━━━━━━\u001b[0m \u001b[32m6.4/6.4 MB\u001b[0m \u001b[31m55.9 MB/s\u001b[0m eta \u001b[36m0:00:00\u001b[0m\n",
      "\u001b[?25hCollecting pydantic!=1.8,!=1.8.1,<1.10.0,>=1.7.4 (from spacy[cuda100])\n",
      "  Downloading pydantic-1.9.2-cp310-cp310-manylinux_2_17_x86_64.manylinux2014_x86_64.whl (12.0 MB)\n",
      "\u001b[2K     \u001b[90m━━━━━━━━━━━━━━━━━━━━━━━━━━━━━━━━━━━━━━━━\u001b[0m \u001b[32m12.0/12.0 MB\u001b[0m \u001b[31m14.1 MB/s\u001b[0m eta \u001b[36m0:00:00\u001b[0m\n",
      "\u001b[?25hCollecting spacy[cuda100]\n",
      "  Downloading spacy-3.4.0-cp310-cp310-manylinux_2_17_x86_64.manylinux2014_x86_64.whl (6.4 MB)\n",
      "\u001b[2K     \u001b[90m━━━━━━━━━━━━━━━━━━━━━━━━━━━━━━━━━━━━━━━━\u001b[0m \u001b[32m6.4/6.4 MB\u001b[0m \u001b[31m56.9 MB/s\u001b[0m eta \u001b[36m0:00:00\u001b[0m\n",
      "\u001b[?25h  Downloading spacy-3.3.3-cp310-cp310-manylinux_2_17_x86_64.manylinux2014_x86_64.whl (6.3 MB)\n",
      "\u001b[2K     \u001b[90m━━━━━━━━━━━━━━━━━━━━━━━━━━━━━━━━━━━━━━━━\u001b[0m \u001b[32m6.3/6.3 MB\u001b[0m \u001b[31m59.0 MB/s\u001b[0m eta \u001b[36m0:00:00\u001b[0m\n",
      "\u001b[?25hCollecting thinc<8.1.0,>=8.0.14 (from spacy[cuda100])\n",
      "  Downloading thinc-8.0.17-cp310-cp310-manylinux_2_17_x86_64.manylinux2014_x86_64.whl (659 kB)\n",
      "\u001b[2K     \u001b[90m━━━━━━━━━━━━━━━━━━━━━━━━━━━━━━━━━━━━━━━━\u001b[0m \u001b[32m659.5/659.5 kB\u001b[0m \u001b[31m58.2 MB/s\u001b[0m eta \u001b[36m0:00:00\u001b[0m\n",
      "\u001b[?25hRequirement already satisfied: blis<0.8.0,>=0.4.0 in /usr/local/lib/python3.10/dist-packages (from spacy[cuda100]) (0.7.11)\n",
      "Collecting pydantic!=1.8,!=1.8.1,<1.9.0,>=1.7.4 (from spacy[cuda100])\n",
      "  Downloading pydantic-1.8.2-py3-none-any.whl (126 kB)\n",
      "\u001b[2K     \u001b[90m━━━━━━━━━━━━━━━━━━━━━━━━━━━━━━━━━━━━━━━━\u001b[0m \u001b[32m126.0/126.0 kB\u001b[0m \u001b[31m20.6 MB/s\u001b[0m eta \u001b[36m0:00:00\u001b[0m\n",
      "\u001b[?25hCollecting typing-extensions<4.6.0,>=3.7.4.1 (from spacy[cuda100])\n",
      "  Downloading typing_extensions-4.5.0-py3-none-any.whl (27 kB)\n",
      "Collecting spacy[cuda100]\n",
      "  Downloading spacy-3.3.2-cp310-cp310-manylinux_2_17_x86_64.manylinux2014_x86_64.whl (6.3 MB)\n",
      "\u001b[2K     \u001b[90m━━━━━━━━━━━━━━━━━━━━━━━━━━━━━━━━━━━━━━━━\u001b[0m \u001b[32m6.3/6.3 MB\u001b[0m \u001b[31m62.5 MB/s\u001b[0m eta \u001b[36m0:00:00\u001b[0m\n",
      "\u001b[?25h  Downloading spacy-3.3.1-cp310-cp310-manylinux_2_17_x86_64.manylinux2014_x86_64.whl (6.3 MB)\n",
      "\u001b[2K     \u001b[90m━━━━━━━━━━━━━━━━━━━━━━━━━━━━━━━━━━━━━━━━\u001b[0m \u001b[32m6.3/6.3 MB\u001b[0m \u001b[31m57.7 MB/s\u001b[0m eta \u001b[36m0:00:00\u001b[0m\n",
      "\u001b[?25h  Downloading spacy-3.3.0-cp310-cp310-manylinux_2_17_x86_64.manylinux2014_x86_64.whl (6.3 MB)\n",
      "\u001b[2K     \u001b[90m━━━━━━━━━━━━━━━━━━━━━━━━━━━━━━━━━━━━━━━━\u001b[0m \u001b[32m6.3/6.3 MB\u001b[0m \u001b[31m57.5 MB/s\u001b[0m eta \u001b[36m0:00:00\u001b[0m\n",
      "\u001b[?25h  Downloading spacy-3.2.6-cp310-cp310-manylinux_2_17_x86_64.manylinux2014_x86_64.whl (6.1 MB)\n",
      "\u001b[2K     \u001b[90m━━━━━━━━━━━━━━━━━━━━━━━━━━━━━━━━━━━━━━━━\u001b[0m \u001b[32m6.1/6.1 MB\u001b[0m \u001b[31m61.1 MB/s\u001b[0m eta \u001b[36m0:00:00\u001b[0m\n",
      "\u001b[?25h  Downloading spacy-3.2.5-cp310-cp310-manylinux_2_17_x86_64.manylinux2014_x86_64.whl (6.1 MB)\n",
      "\u001b[2K     \u001b[90m━━━━━━━━━━━━━━━━━━━━━━━━━━━━━━━━━━━━━━━━\u001b[0m \u001b[32m6.1/6.1 MB\u001b[0m \u001b[31m57.8 MB/s\u001b[0m eta \u001b[36m0:00:00\u001b[0m\n",
      "\u001b[?25h  Downloading spacy-3.2.4-cp310-cp310-manylinux_2_17_x86_64.manylinux2014_x86_64.whl (6.1 MB)\n",
      "\u001b[2K     \u001b[90m━━━━━━━━━━━━━━━━━━━━━━━━━━━━━━━━━━━━━━━━\u001b[0m \u001b[32m6.1/6.1 MB\u001b[0m \u001b[31m56.8 MB/s\u001b[0m eta \u001b[36m0:00:00\u001b[0m\n",
      "\u001b[?25hCollecting click<8.1.0 (from spacy[cuda100])\n",
      "  Downloading click-8.0.4-py3-none-any.whl (97 kB)\n",
      "\u001b[2K     \u001b[90m━━━━━━━━━━━━━━━━━━━━━━━━━━━━━━━━━━━━━━━━\u001b[0m \u001b[32m97.5/97.5 kB\u001b[0m \u001b[31m14.8 MB/s\u001b[0m eta \u001b[36m0:00:00\u001b[0m\n",
      "\u001b[?25hCollecting spacy[cuda100]\n",
      "  Downloading spacy-3.2.3-cp310-cp310-manylinux_2_17_x86_64.manylinux2014_x86_64.whl (6.1 MB)\n",
      "\u001b[2K     \u001b[90m━━━━━━━━━━━━━━━━━━━━━━━━━━━━━━━━━━━━━━━━\u001b[0m \u001b[32m6.1/6.1 MB\u001b[0m \u001b[31m60.2 MB/s\u001b[0m eta \u001b[36m0:00:00\u001b[0m\n",
      "\u001b[?25h  Downloading spacy-3.2.2-cp310-cp310-manylinux_2_17_x86_64.manylinux2014_x86_64.whl (6.1 MB)\n",
      "\u001b[2K     \u001b[90m━━━━━━━━━━━━━━━━━━━━━━━━━━━━━━━━━━━━━━━━\u001b[0m \u001b[32m6.1/6.1 MB\u001b[0m \u001b[31m56.7 MB/s\u001b[0m eta \u001b[36m0:00:00\u001b[0m\n",
      "\u001b[?25h  Downloading spacy-3.2.1-cp310-cp310-manylinux_2_17_x86_64.manylinux2014_x86_64.whl (6.1 MB)\n",
      "\u001b[2K     \u001b[90m━━━━━━━━━━━━━━━━━━━━━━━━━━━━━━━━━━━━━━━━\u001b[0m \u001b[32m6.1/6.1 MB\u001b[0m \u001b[31m59.7 MB/s\u001b[0m eta \u001b[36m0:00:00\u001b[0m\n",
      "\u001b[?25h  Downloading spacy-3.2.0-cp310-cp310-manylinux_2_17_x86_64.manylinux2014_x86_64.whl (6.0 MB)\n",
      "\u001b[2K     \u001b[90m━━━━━━━━━━━━━━━━━━━━━━━━━━━━━━━━━━━━━━━━\u001b[0m \u001b[32m6.0/6.0 MB\u001b[0m \u001b[31m59.4 MB/s\u001b[0m eta \u001b[36m0:00:00\u001b[0m\n",
      "\u001b[?25h  Downloading spacy-3.1.7-cp310-cp310-manylinux_2_17_x86_64.manylinux2014_x86_64.whl (6.0 MB)\n",
      "\u001b[2K     \u001b[90m━━━━━━━━━━━━━━━━━━━━━━━━━━━━━━━━━━━━━━━━\u001b[0m \u001b[32m6.0/6.0 MB\u001b[0m \u001b[31m58.3 MB/s\u001b[0m eta \u001b[36m0:00:00\u001b[0m\n",
      "\u001b[?25h  Downloading spacy-3.1.6-cp310-cp310-manylinux_2_17_x86_64.manylinux2014_x86_64.whl (6.0 MB)\n",
      "\u001b[2K     \u001b[90m━━━━━━━━━━━━━━━━━━━━━━━━━━━━━━━━━━━━━━━━\u001b[0m \u001b[32m6.0/6.0 MB\u001b[0m \u001b[31m54.0 MB/s\u001b[0m eta \u001b[36m0:00:00\u001b[0m\n",
      "\u001b[?25h  Downloading spacy-3.1.5-cp310-cp310-manylinux_2_17_x86_64.manylinux2014_x86_64.whl (6.0 MB)\n",
      "\u001b[2K     \u001b[90m━━━━━━━━━━━━━━━━━━━━━━━━━━━━━━━━━━━━━━━━\u001b[0m \u001b[32m6.0/6.0 MB\u001b[0m \u001b[31m6.5 MB/s\u001b[0m eta \u001b[36m0:00:00\u001b[0m\n",
      "\u001b[?25h  Downloading spacy-3.1.4-cp310-cp310-manylinux_2_17_x86_64.manylinux2014_x86_64.whl (6.0 MB)\n",
      "\u001b[2K     \u001b[90m━━━━━━━━━━━━━━━━━━━━━━━━━━━━━━━━━━━━━━━━\u001b[0m \u001b[32m6.0/6.0 MB\u001b[0m \u001b[31m55.5 MB/s\u001b[0m eta \u001b[36m0:00:00\u001b[0m\n",
      "\u001b[?25h  Downloading spacy-3.1.3.tar.gz (1.0 MB)\n",
      "\u001b[2K     \u001b[90m━━━━━━━━━━━━━━━━━━━━━━━━━━━━━━━━━━━━━━━━\u001b[0m \u001b[32m1.0/1.0 MB\u001b[0m \u001b[31m79.3 MB/s\u001b[0m eta \u001b[36m0:00:00\u001b[0m\n",
      "\u001b[?25h  Installing build dependencies ... \u001b[?25l\u001b[?25hdone\n",
      "  Getting requirements to build wheel ... \u001b[?25l\u001b[?25hdone\n",
      "  Installing backend dependencies ... \u001b[?25l\u001b[?25hdone\n",
      "  Preparing metadata (pyproject.toml) ... \u001b[?25l\u001b[?25hdone\n",
      "  Downloading spacy-3.1.2.tar.gz (1.0 MB)\n",
      "\u001b[2K     \u001b[90m━━━━━━━━━━━━━━━━━━━━━━━━━━━━━━━━━━━━━━━━\u001b[0m \u001b[32m1.0/1.0 MB\u001b[0m \u001b[31m82.8 MB/s\u001b[0m eta \u001b[36m0:00:00\u001b[0m\n",
      "\u001b[?25h  Installing build dependencies ... \u001b[?25l\u001b[?25hdone\n",
      "  Getting requirements to build wheel ... \u001b[?25l\u001b[?25hdone\n",
      "  Installing backend dependencies ... \u001b[?25l\u001b[?25hdone\n",
      "  Preparing metadata (pyproject.toml) ... \u001b[?25l\u001b[?25hdone\n",
      "Collecting typer<0.4.0,>=0.3.0 (from spacy[cuda100])\n",
      "  Downloading typer-0.3.2-py3-none-any.whl (21 kB)\n",
      "Collecting spacy[cuda100]\n",
      "  Downloading spacy-3.1.1.tar.gz (1.0 MB)\n",
      "\u001b[2K     \u001b[90m━━━━━━━━━━━━━━━━━━━━━━━━━━━━━━━━━━━━━━━━\u001b[0m \u001b[32m1.0/1.0 MB\u001b[0m \u001b[31m74.8 MB/s\u001b[0m eta \u001b[36m0:00:00\u001b[0m\n",
      "\u001b[?25h  Installing build dependencies ... \u001b[?25l\u001b[?25hdone\n",
      "  Getting requirements to build wheel ... \u001b[?25l\u001b[?25hdone\n",
      "  Installing backend dependencies ... \u001b[?25l\u001b[?25hdone\n",
      "  Preparing metadata (pyproject.toml) ... \u001b[?25l\u001b[?25hdone\n",
      "  Downloading spacy-3.1.0.tar.gz (1.0 MB)\n",
      "\u001b[2K     \u001b[90m━━━━━━━━━━━━━━━━━━━━━━━━━━━━━━━━━━━━━━━━\u001b[0m \u001b[32m1.0/1.0 MB\u001b[0m \u001b[31m62.2 MB/s\u001b[0m eta \u001b[36m0:00:00\u001b[0m\n",
      "\u001b[?25h  Installing build dependencies ... \u001b[?25l\u001b[?25hdone\n",
      "  Getting requirements to build wheel ... \u001b[?25l\u001b[?25hdone\n",
      "  Installing backend dependencies ... \u001b[?25l\u001b[?25hdone\n",
      "  Preparing metadata (pyproject.toml) ... \u001b[?25l\u001b[?25hdone\n",
      "  Downloading spacy-3.0.9-cp310-cp310-manylinux_2_17_x86_64.manylinux2014_x86_64.whl (5.9 MB)\n",
      "\u001b[2K     \u001b[90m━━━━━━━━━━━━━━━━━━━━━━━━━━━━━━━━━━━━━━━━\u001b[0m \u001b[32m5.9/5.9 MB\u001b[0m \u001b[31m55.8 MB/s\u001b[0m eta \u001b[36m0:00:00\u001b[0m\n",
      "\u001b[?25h  Downloading spacy-3.0.8-cp310-cp310-manylinux_2_17_x86_64.manylinux2014_x86_64.whl (5.9 MB)\n",
      "\u001b[2K     \u001b[90m━━━━━━━━━━━━━━━━━━━━━━━━━━━━━━━━━━━━━━━━\u001b[0m \u001b[32m5.9/5.9 MB\u001b[0m \u001b[31m72.2 MB/s\u001b[0m eta \u001b[36m0:00:00\u001b[0m\n",
      "\u001b[?25h  Downloading spacy-3.0.7.tar.gz (987 kB)\n",
      "\u001b[2K     \u001b[90m━━━━━━━━━━━━━━━━━━━━━━━━━━━━━━━━━━━━━━━━\u001b[0m \u001b[32m988.0/988.0 kB\u001b[0m \u001b[31m81.8 MB/s\u001b[0m eta \u001b[36m0:00:00\u001b[0m\n",
      "\u001b[?25h  Installing build dependencies ... \u001b[?25l\u001b[?25hdone\n",
      "  Getting requirements to build wheel ... \u001b[?25l\u001b[?25hdone\n",
      "  Installing backend dependencies ... \u001b[?25l\u001b[?25hdone\n",
      "  Preparing metadata (pyproject.toml) ... \u001b[?25l\u001b[?25hdone\n",
      "  Downloading spacy-3.0.6.tar.gz (7.1 MB)\n",
      "\u001b[2K     \u001b[90m━━━━━━━━━━━━━━━━━━━━━━━━━━━━━━━━━━━━━━━━\u001b[0m \u001b[32m7.1/7.1 MB\u001b[0m \u001b[31m59.0 MB/s\u001b[0m eta \u001b[36m0:00:00\u001b[0m\n",
      "\u001b[?25h  Installing build dependencies ... \u001b[?25l\u001b[?25hdone\n",
      "  \u001b[1;31merror\u001b[0m: \u001b[1msubprocess-exited-with-error\u001b[0m\n",
      "  \n",
      "  \u001b[31m×\u001b[0m \u001b[32mGetting requirements to build wheel\u001b[0m did not run successfully.\n",
      "  \u001b[31m│\u001b[0m exit code: \u001b[1;36m1\u001b[0m\n",
      "  \u001b[31m╰─>\u001b[0m See above for output.\n",
      "  \n",
      "  \u001b[1;35mnote\u001b[0m: This error originates from a subprocess, and is likely not a problem with pip.\n",
      "  Getting requirements to build wheel ... \u001b[?25l\u001b[?25herror\n",
      "\u001b[1;31merror\u001b[0m: \u001b[1msubprocess-exited-with-error\u001b[0m\n",
      "\n",
      "\u001b[31m×\u001b[0m \u001b[32mGetting requirements to build wheel\u001b[0m did not run successfully.\n",
      "\u001b[31m│\u001b[0m exit code: \u001b[1;36m1\u001b[0m\n",
      "\u001b[31m╰─>\u001b[0m See above for output.\n",
      "\n",
      "\u001b[1;35mnote\u001b[0m: This error originates from a subprocess, and is likely not a problem with pip.\n",
      "Collecting https://github.com/megagonlabs/ginza/releases/download/latest/ja_ginza_electra-latest-with-model.tar.gz\n",
      "  Downloading https://github.com/megagonlabs/ginza/releases/download/latest/ja_ginza_electra-latest-with-model.tar.gz (809.7 MB)\n",
      "\u001b[2K     \u001b[90m━━━━━━━━━━━━━━━━━━━━━━━━━━━━━━━━━━━━━━━━\u001b[0m \u001b[32m809.7/809.7 MB\u001b[0m \u001b[31m1.8 MB/s\u001b[0m eta \u001b[36m0:00:00\u001b[0m\n",
      "\u001b[?25h  Preparing metadata (setup.py) ... \u001b[?25l\u001b[?25hdone\n",
      "Collecting ginza\n",
      "  Downloading ginza-5.1.3-py3-none-any.whl (20 kB)\n",
      "Collecting spacy<3.7.0,>=3.2.0 (from ginza)\n",
      "  Using cached spacy-3.6.1-cp310-cp310-manylinux_2_17_x86_64.manylinux2014_x86_64.whl (6.6 MB)\n",
      "Collecting plac>=1.3.3 (from ginza)\n",
      "  Downloading plac-1.4.2-py2.py3-none-any.whl (22 kB)\n",
      "Collecting SudachiPy<0.7.0,>=0.6.2 (from ginza)\n",
      "  Downloading SudachiPy-0.6.8-cp310-cp310-manylinux_2_17_x86_64.manylinux2014_x86_64.whl (2.6 MB)\n",
      "\u001b[2K     \u001b[90m━━━━━━━━━━━━━━━━━━━━━━━━━━━━━━━━━━━━━━━━\u001b[0m \u001b[32m2.6/2.6 MB\u001b[0m \u001b[31m13.7 MB/s\u001b[0m eta \u001b[36m0:00:00\u001b[0m\n",
      "\u001b[?25hCollecting SudachiDict-core>=20210802 (from ginza)\n",
      "  Downloading SudachiDict_core-20240109-py3-none-any.whl (71.8 MB)\n",
      "\u001b[2K     \u001b[90m━━━━━━━━━━━━━━━━━━━━━━━━━━━━━━━━━━━━━━━━\u001b[0m \u001b[32m71.8/71.8 MB\u001b[0m \u001b[31m8.6 MB/s\u001b[0m eta \u001b[36m0:00:00\u001b[0m\n",
      "\u001b[?25hCollecting sudachitra<0.2.0,>=0.1.6 (from ja-ginza-electra==5.1.3)\n",
      "  Downloading SudachiTra-0.1.9.tar.gz (336 kB)\n",
      "\u001b[2K     \u001b[90m━━━━━━━━━━━━━━━━━━━━━━━━━━━━━━━━━━━━━━━━\u001b[0m \u001b[32m336.5/336.5 kB\u001b[0m \u001b[31m43.1 MB/s\u001b[0m eta \u001b[36m0:00:00\u001b[0m\n",
      "\u001b[?25h  Preparing metadata (setup.py) ... \u001b[?25l\u001b[?25hdone\n",
      "Collecting ginza-transformers<0.5.0,>=0.4.0 (from ja-ginza-electra==5.1.3)\n",
      "  Downloading ginza_transformers-0.4.2-py3-none-any.whl (7.2 kB)\n",
      "Collecting spacy-transformers<1.2.0,>=1.1.3 (from ja-ginza-electra==5.1.3)\n",
      "  Downloading spacy_transformers-1.1.9-py2.py3-none-any.whl (53 kB)\n",
      "\u001b[2K     \u001b[90m━━━━━━━━━━━━━━━━━━━━━━━━━━━━━━━━━━━━━━━━\u001b[0m \u001b[32m53.5/53.5 kB\u001b[0m \u001b[31m9.7 MB/s\u001b[0m eta \u001b[36m0:00:00\u001b[0m\n",
      "\u001b[?25hRequirement already satisfied: spacy-legacy<3.1.0,>=3.0.11 in /usr/local/lib/python3.10/dist-packages (from spacy<3.7.0,>=3.2.0->ginza) (3.0.12)\n",
      "Requirement already satisfied: spacy-loggers<2.0.0,>=1.0.0 in /usr/local/lib/python3.10/dist-packages (from spacy<3.7.0,>=3.2.0->ginza) (1.0.5)\n",
      "Requirement already satisfied: murmurhash<1.1.0,>=0.28.0 in /usr/local/lib/python3.10/dist-packages (from spacy<3.7.0,>=3.2.0->ginza) (1.0.10)\n",
      "Requirement already satisfied: cymem<2.1.0,>=2.0.2 in /usr/local/lib/python3.10/dist-packages (from spacy<3.7.0,>=3.2.0->ginza) (2.0.8)\n",
      "Requirement already satisfied: preshed<3.1.0,>=3.0.2 in /usr/local/lib/python3.10/dist-packages (from spacy<3.7.0,>=3.2.0->ginza) (3.0.9)\n",
      "Collecting thinc<8.2.0,>=8.1.8 (from spacy<3.7.0,>=3.2.0->ginza)\n",
      "  Using cached thinc-8.1.12-cp310-cp310-manylinux_2_17_x86_64.manylinux2014_x86_64.whl (919 kB)\n",
      "Requirement already satisfied: wasabi<1.2.0,>=0.9.1 in /usr/local/lib/python3.10/dist-packages (from spacy<3.7.0,>=3.2.0->ginza) (1.1.2)\n",
      "Requirement already satisfied: srsly<3.0.0,>=2.4.3 in /usr/local/lib/python3.10/dist-packages (from spacy<3.7.0,>=3.2.0->ginza) (2.4.8)\n",
      "Requirement already satisfied: catalogue<2.1.0,>=2.0.6 in /usr/local/lib/python3.10/dist-packages (from spacy<3.7.0,>=3.2.0->ginza) (2.0.10)\n",
      "Requirement already satisfied: typer<0.10.0,>=0.3.0 in /usr/local/lib/python3.10/dist-packages (from spacy<3.7.0,>=3.2.0->ginza) (0.9.0)\n",
      "Collecting pathy>=0.10.0 (from spacy<3.7.0,>=3.2.0->ginza)\n",
      "  Using cached pathy-0.11.0-py3-none-any.whl (47 kB)\n",
      "Requirement already satisfied: smart-open<7.0.0,>=5.2.1 in /usr/local/lib/python3.10/dist-packages (from spacy<3.7.0,>=3.2.0->ginza) (6.4.0)\n",
      "Requirement already satisfied: tqdm<5.0.0,>=4.38.0 in /usr/local/lib/python3.10/dist-packages (from spacy<3.7.0,>=3.2.0->ginza) (4.66.2)\n",
      "Requirement already satisfied: numpy>=1.15.0 in /usr/local/lib/python3.10/dist-packages (from spacy<3.7.0,>=3.2.0->ginza) (1.25.2)\n",
      "Requirement already satisfied: requests<3.0.0,>=2.13.0 in /usr/local/lib/python3.10/dist-packages (from spacy<3.7.0,>=3.2.0->ginza) (2.31.0)\n",
      "Requirement already satisfied: pydantic!=1.8,!=1.8.1,<3.0.0,>=1.7.4 in /usr/local/lib/python3.10/dist-packages (from spacy<3.7.0,>=3.2.0->ginza) (2.6.1)\n",
      "Requirement already satisfied: jinja2 in /usr/local/lib/python3.10/dist-packages (from spacy<3.7.0,>=3.2.0->ginza) (3.1.3)\n",
      "Requirement already satisfied: setuptools in /usr/local/lib/python3.10/dist-packages (from spacy<3.7.0,>=3.2.0->ginza) (67.7.2)\n",
      "Requirement already satisfied: packaging>=20.0 in /usr/local/lib/python3.10/dist-packages (from spacy<3.7.0,>=3.2.0->ginza) (23.2)\n",
      "Requirement already satisfied: langcodes<4.0.0,>=3.2.0 in /usr/local/lib/python3.10/dist-packages (from spacy<3.7.0,>=3.2.0->ginza) (3.3.0)\n",
      "Collecting transformers<4.26.0,>=3.4.0 (from spacy-transformers<1.2.0,>=1.1.3->ja-ginza-electra==5.1.3)\n",
      "  Downloading transformers-4.25.1-py3-none-any.whl (5.8 MB)\n",
      "\u001b[2K     \u001b[90m━━━━━━━━━━━━━━━━━━━━━━━━━━━━━━━━━━━━━━━━\u001b[0m \u001b[32m5.8/5.8 MB\u001b[0m \u001b[31m63.5 MB/s\u001b[0m eta \u001b[36m0:00:00\u001b[0m\n",
      "\u001b[?25hRequirement already satisfied: torch>=1.6.0 in /usr/local/lib/python3.10/dist-packages (from spacy-transformers<1.2.0,>=1.1.3->ja-ginza-electra==5.1.3) (2.1.0+cu121)\n",
      "Collecting spacy-alignments<1.0.0,>=0.7.2 (from spacy-transformers<1.2.0,>=1.1.3->ja-ginza-electra==5.1.3)\n",
      "  Downloading spacy_alignments-0.9.1-cp310-cp310-manylinux_2_17_x86_64.manylinux2014_x86_64.whl (313 kB)\n",
      "\u001b[2K     \u001b[90m━━━━━━━━━━━━━━━━━━━━━━━━━━━━━━━━━━━━━━━━\u001b[0m \u001b[32m314.0/314.0 kB\u001b[0m \u001b[31m42.5 MB/s\u001b[0m eta \u001b[36m0:00:00\u001b[0m\n",
      "\u001b[?25hCollecting logzero~=1.7.0 (from sudachitra<0.2.0,>=0.1.6->ja-ginza-electra==5.1.3)\n",
      "  Downloading logzero-1.7.0-py2.py3-none-any.whl (16 kB)\n",
      "Requirement already satisfied: tokenizers>=0.10.3 in /usr/local/lib/python3.10/dist-packages (from sudachitra<0.2.0,>=0.1.6->ja-ginza-electra==5.1.3) (0.15.2)\n",
      "Collecting pathlib-abc==0.1.1 (from pathy>=0.10.0->spacy<3.7.0,>=3.2.0->ginza)\n",
      "  Using cached pathlib_abc-0.1.1-py3-none-any.whl (23 kB)\n",
      "Requirement already satisfied: annotated-types>=0.4.0 in /usr/local/lib/python3.10/dist-packages (from pydantic!=1.8,!=1.8.1,<3.0.0,>=1.7.4->spacy<3.7.0,>=3.2.0->ginza) (0.6.0)\n",
      "Requirement already satisfied: pydantic-core==2.16.2 in /usr/local/lib/python3.10/dist-packages (from pydantic!=1.8,!=1.8.1,<3.0.0,>=1.7.4->spacy<3.7.0,>=3.2.0->ginza) (2.16.2)\n",
      "Requirement already satisfied: typing-extensions>=4.6.1 in /usr/local/lib/python3.10/dist-packages (from pydantic!=1.8,!=1.8.1,<3.0.0,>=1.7.4->spacy<3.7.0,>=3.2.0->ginza) (4.9.0)\n",
      "Requirement already satisfied: charset-normalizer<4,>=2 in /usr/local/lib/python3.10/dist-packages (from requests<3.0.0,>=2.13.0->spacy<3.7.0,>=3.2.0->ginza) (3.3.2)\n",
      "Requirement already satisfied: idna<4,>=2.5 in /usr/local/lib/python3.10/dist-packages (from requests<3.0.0,>=2.13.0->spacy<3.7.0,>=3.2.0->ginza) (3.6)\n",
      "Requirement already satisfied: urllib3<3,>=1.21.1 in /usr/local/lib/python3.10/dist-packages (from requests<3.0.0,>=2.13.0->spacy<3.7.0,>=3.2.0->ginza) (2.0.7)\n",
      "Requirement already satisfied: certifi>=2017.4.17 in /usr/local/lib/python3.10/dist-packages (from requests<3.0.0,>=2.13.0->spacy<3.7.0,>=3.2.0->ginza) (2024.2.2)\n",
      "Requirement already satisfied: blis<0.8.0,>=0.7.8 in /usr/local/lib/python3.10/dist-packages (from thinc<8.2.0,>=8.1.8->spacy<3.7.0,>=3.2.0->ginza) (0.7.11)\n",
      "Requirement already satisfied: confection<1.0.0,>=0.0.1 in /usr/local/lib/python3.10/dist-packages (from thinc<8.2.0,>=8.1.8->spacy<3.7.0,>=3.2.0->ginza) (0.1.4)\n",
      "Requirement already satisfied: huggingface_hub<1.0,>=0.16.4 in /usr/local/lib/python3.10/dist-packages (from tokenizers>=0.10.3->sudachitra<0.2.0,>=0.1.6->ja-ginza-electra==5.1.3) (0.20.3)\n",
      "Requirement already satisfied: filelock in /usr/local/lib/python3.10/dist-packages (from torch>=1.6.0->spacy-transformers<1.2.0,>=1.1.3->ja-ginza-electra==5.1.3) (3.13.1)\n",
      "Requirement already satisfied: sympy in /usr/local/lib/python3.10/dist-packages (from torch>=1.6.0->spacy-transformers<1.2.0,>=1.1.3->ja-ginza-electra==5.1.3) (1.12)\n",
      "Requirement already satisfied: networkx in /usr/local/lib/python3.10/dist-packages (from torch>=1.6.0->spacy-transformers<1.2.0,>=1.1.3->ja-ginza-electra==5.1.3) (3.2.1)\n",
      "Requirement already satisfied: fsspec in /usr/local/lib/python3.10/dist-packages (from torch>=1.6.0->spacy-transformers<1.2.0,>=1.1.3->ja-ginza-electra==5.1.3) (2023.6.0)\n",
      "Requirement already satisfied: triton==2.1.0 in /usr/local/lib/python3.10/dist-packages (from torch>=1.6.0->spacy-transformers<1.2.0,>=1.1.3->ja-ginza-electra==5.1.3) (2.1.0)\n",
      "Requirement already satisfied: pyyaml>=5.1 in /usr/local/lib/python3.10/dist-packages (from transformers<4.26.0,>=3.4.0->spacy-transformers<1.2.0,>=1.1.3->ja-ginza-electra==5.1.3) (6.0.1)\n",
      "Requirement already satisfied: regex!=2019.12.17 in /usr/local/lib/python3.10/dist-packages (from transformers<4.26.0,>=3.4.0->spacy-transformers<1.2.0,>=1.1.3->ja-ginza-electra==5.1.3) (2023.12.25)\n",
      "Collecting tokenizers>=0.10.3 (from sudachitra<0.2.0,>=0.1.6->ja-ginza-electra==5.1.3)\n",
      "  Downloading tokenizers-0.13.3-cp310-cp310-manylinux_2_17_x86_64.manylinux2014_x86_64.whl (7.8 MB)\n",
      "\u001b[2K     \u001b[90m━━━━━━━━━━━━━━━━━━━━━━━━━━━━━━━━━━━━━━━━\u001b[0m \u001b[32m7.8/7.8 MB\u001b[0m \u001b[31m59.7 MB/s\u001b[0m eta \u001b[36m0:00:00\u001b[0m\n",
      "\u001b[?25hRequirement already satisfied: click<9.0.0,>=7.1.1 in /usr/local/lib/python3.10/dist-packages (from typer<0.10.0,>=0.3.0->spacy<3.7.0,>=3.2.0->ginza) (8.1.7)\n",
      "Requirement already satisfied: MarkupSafe>=2.0 in /usr/local/lib/python3.10/dist-packages (from jinja2->spacy<3.7.0,>=3.2.0->ginza) (2.1.5)\n",
      "Requirement already satisfied: mpmath>=0.19 in /usr/local/lib/python3.10/dist-packages (from sympy->torch>=1.6.0->spacy-transformers<1.2.0,>=1.1.3->ja-ginza-electra==5.1.3) (1.3.0)\n",
      "Building wheels for collected packages: ja-ginza-electra, sudachitra\n",
      "  Building wheel for ja-ginza-electra (setup.py) ... \u001b[?25l\u001b[?25hdone\n",
      "  Created wheel for ja-ginza-electra: filename=ja_ginza_electra-5.1.3-py3-none-any.whl size=809689537 sha256=a91e8a83acc4bbe622a6fbcc9eec6dc5d069bb69269fa6c4c45b9304347db179\n",
      "  Stored in directory: /root/.cache/pip/wheels/33/8f/55/22bc205cbcd7aac1492e543a355a1728c32a17a5a51ec305eb\n",
      "  Building wheel for sudachitra (setup.py) ... \u001b[?25l\u001b[?25hdone\n",
      "  Created wheel for sudachitra: filename=SudachiTra-0.1.9-py3-none-any.whl size=268305 sha256=349c0fdd02191d2afd03f0ec7982e770e6df965d2d202604de8c212181985af8\n",
      "  Stored in directory: /root/.cache/pip/wheels/8c/c8/fd/8f1b3cb1832dd658b02a41238820a9af133c0b7c6ebfd1a880\n",
      "Successfully built ja-ginza-electra sudachitra\n",
      "Installing collected packages: tokenizers, SudachiPy, plac, logzero, SudachiDict-core, spacy-alignments, pathlib-abc, pathy, transformers, thinc, sudachitra, spacy, spacy-transformers, ginza, ginza-transformers, ja-ginza-electra\n",
      "  Attempting uninstall: tokenizers\n",
      "    Found existing installation: tokenizers 0.15.2\n",
      "    Uninstalling tokenizers-0.15.2:\n",
      "      Successfully uninstalled tokenizers-0.15.2\n",
      "  Attempting uninstall: transformers\n",
      "    Found existing installation: transformers 4.35.2\n",
      "    Uninstalling transformers-4.35.2:\n",
      "      Successfully uninstalled transformers-4.35.2\n",
      "  Attempting uninstall: thinc\n",
      "    Found existing installation: thinc 8.2.3\n",
      "    Uninstalling thinc-8.2.3:\n",
      "      Successfully uninstalled thinc-8.2.3\n",
      "  Attempting uninstall: spacy\n",
      "    Found existing installation: spacy 3.7.2\n",
      "    Uninstalling spacy-3.7.2:\n",
      "      Successfully uninstalled spacy-3.7.2\n",
      "\u001b[31mERROR: pip's dependency resolver does not currently take into account all the packages that are installed. This behaviour is the source of the following dependency conflicts.\n",
      "en-core-web-sm 3.7.1 requires spacy<3.8.0,>=3.7.2, but you have spacy 3.6.1 which is incompatible.\u001b[0m\u001b[31m\n",
      "\u001b[0mSuccessfully installed SudachiDict-core-20240109 SudachiPy-0.6.8 ginza-5.1.3 ginza-transformers-0.4.2 ja-ginza-electra-5.1.3 logzero-1.7.0 pathlib-abc-0.1.1 pathy-0.11.0 plac-1.4.2 spacy-3.6.1 spacy-alignments-0.9.1 spacy-transformers-1.1.9 sudachitra-0.1.9 thinc-8.1.12 tokenizers-0.13.3 transformers-4.25.1\n",
      "Collecting ja_ginza\n",
      "  Downloading ja_ginza-5.1.3-py3-none-any.whl (59.1 MB)\n",
      "\u001b[2K     \u001b[90m━━━━━━━━━━━━━━━━━━━━━━━━━━━━━━━━━━━━━━━━\u001b[0m \u001b[32m59.1/59.1 MB\u001b[0m \u001b[31m10.4 MB/s\u001b[0m eta \u001b[36m0:00:00\u001b[0m\n",
      "\u001b[?25hRequirement already satisfied: spacy<3.7.0,>=3.2.0 in /usr/local/lib/python3.10/dist-packages (from ja_ginza) (3.6.1)\n",
      "Requirement already satisfied: sudachipy<0.7.0,>=0.6.2 in /usr/local/lib/python3.10/dist-packages (from ja_ginza) (0.6.8)\n",
      "Requirement already satisfied: sudachidict-core>=20210802 in /usr/local/lib/python3.10/dist-packages (from ja_ginza) (20240109)\n",
      "Requirement already satisfied: ginza<5.2.0,>=5.1.0 in /usr/local/lib/python3.10/dist-packages (from ja_ginza) (5.1.3)\n",
      "Requirement already satisfied: plac>=1.3.3 in /usr/local/lib/python3.10/dist-packages (from ginza<5.2.0,>=5.1.0->ja_ginza) (1.4.2)\n",
      "Requirement already satisfied: spacy-legacy<3.1.0,>=3.0.11 in /usr/local/lib/python3.10/dist-packages (from spacy<3.7.0,>=3.2.0->ja_ginza) (3.0.12)\n",
      "Requirement already satisfied: spacy-loggers<2.0.0,>=1.0.0 in /usr/local/lib/python3.10/dist-packages (from spacy<3.7.0,>=3.2.0->ja_ginza) (1.0.5)\n",
      "Requirement already satisfied: murmurhash<1.1.0,>=0.28.0 in /usr/local/lib/python3.10/dist-packages (from spacy<3.7.0,>=3.2.0->ja_ginza) (1.0.10)\n",
      "Requirement already satisfied: cymem<2.1.0,>=2.0.2 in /usr/local/lib/python3.10/dist-packages (from spacy<3.7.0,>=3.2.0->ja_ginza) (2.0.8)\n",
      "Requirement already satisfied: preshed<3.1.0,>=3.0.2 in /usr/local/lib/python3.10/dist-packages (from spacy<3.7.0,>=3.2.0->ja_ginza) (3.0.9)\n",
      "Requirement already satisfied: thinc<8.2.0,>=8.1.8 in /usr/local/lib/python3.10/dist-packages (from spacy<3.7.0,>=3.2.0->ja_ginza) (8.1.12)\n",
      "Requirement already satisfied: wasabi<1.2.0,>=0.9.1 in /usr/local/lib/python3.10/dist-packages (from spacy<3.7.0,>=3.2.0->ja_ginza) (1.1.2)\n",
      "Requirement already satisfied: srsly<3.0.0,>=2.4.3 in /usr/local/lib/python3.10/dist-packages (from spacy<3.7.0,>=3.2.0->ja_ginza) (2.4.8)\n",
      "Requirement already satisfied: catalogue<2.1.0,>=2.0.6 in /usr/local/lib/python3.10/dist-packages (from spacy<3.7.0,>=3.2.0->ja_ginza) (2.0.10)\n",
      "Requirement already satisfied: typer<0.10.0,>=0.3.0 in /usr/local/lib/python3.10/dist-packages (from spacy<3.7.0,>=3.2.0->ja_ginza) (0.9.0)\n",
      "Requirement already satisfied: pathy>=0.10.0 in /usr/local/lib/python3.10/dist-packages (from spacy<3.7.0,>=3.2.0->ja_ginza) (0.11.0)\n",
      "Requirement already satisfied: smart-open<7.0.0,>=5.2.1 in /usr/local/lib/python3.10/dist-packages (from spacy<3.7.0,>=3.2.0->ja_ginza) (6.4.0)\n",
      "Requirement already satisfied: tqdm<5.0.0,>=4.38.0 in /usr/local/lib/python3.10/dist-packages (from spacy<3.7.0,>=3.2.0->ja_ginza) (4.66.2)\n",
      "Requirement already satisfied: numpy>=1.15.0 in /usr/local/lib/python3.10/dist-packages (from spacy<3.7.0,>=3.2.0->ja_ginza) (1.25.2)\n",
      "Requirement already satisfied: requests<3.0.0,>=2.13.0 in /usr/local/lib/python3.10/dist-packages (from spacy<3.7.0,>=3.2.0->ja_ginza) (2.31.0)\n",
      "Requirement already satisfied: pydantic!=1.8,!=1.8.1,<3.0.0,>=1.7.4 in /usr/local/lib/python3.10/dist-packages (from spacy<3.7.0,>=3.2.0->ja_ginza) (2.6.1)\n",
      "Requirement already satisfied: jinja2 in /usr/local/lib/python3.10/dist-packages (from spacy<3.7.0,>=3.2.0->ja_ginza) (3.1.3)\n",
      "Requirement already satisfied: setuptools in /usr/local/lib/python3.10/dist-packages (from spacy<3.7.0,>=3.2.0->ja_ginza) (67.7.2)\n",
      "Requirement already satisfied: packaging>=20.0 in /usr/local/lib/python3.10/dist-packages (from spacy<3.7.0,>=3.2.0->ja_ginza) (23.2)\n",
      "Requirement already satisfied: langcodes<4.0.0,>=3.2.0 in /usr/local/lib/python3.10/dist-packages (from spacy<3.7.0,>=3.2.0->ja_ginza) (3.3.0)\n",
      "Requirement already satisfied: pathlib-abc==0.1.1 in /usr/local/lib/python3.10/dist-packages (from pathy>=0.10.0->spacy<3.7.0,>=3.2.0->ja_ginza) (0.1.1)\n",
      "Requirement already satisfied: annotated-types>=0.4.0 in /usr/local/lib/python3.10/dist-packages (from pydantic!=1.8,!=1.8.1,<3.0.0,>=1.7.4->spacy<3.7.0,>=3.2.0->ja_ginza) (0.6.0)\n",
      "Requirement already satisfied: pydantic-core==2.16.2 in /usr/local/lib/python3.10/dist-packages (from pydantic!=1.8,!=1.8.1,<3.0.0,>=1.7.4->spacy<3.7.0,>=3.2.0->ja_ginza) (2.16.2)\n",
      "Requirement already satisfied: typing-extensions>=4.6.1 in /usr/local/lib/python3.10/dist-packages (from pydantic!=1.8,!=1.8.1,<3.0.0,>=1.7.4->spacy<3.7.0,>=3.2.0->ja_ginza) (4.9.0)\n",
      "Requirement already satisfied: charset-normalizer<4,>=2 in /usr/local/lib/python3.10/dist-packages (from requests<3.0.0,>=2.13.0->spacy<3.7.0,>=3.2.0->ja_ginza) (3.3.2)\n",
      "Requirement already satisfied: idna<4,>=2.5 in /usr/local/lib/python3.10/dist-packages (from requests<3.0.0,>=2.13.0->spacy<3.7.0,>=3.2.0->ja_ginza) (3.6)\n",
      "Requirement already satisfied: urllib3<3,>=1.21.1 in /usr/local/lib/python3.10/dist-packages (from requests<3.0.0,>=2.13.0->spacy<3.7.0,>=3.2.0->ja_ginza) (2.0.7)\n",
      "Requirement already satisfied: certifi>=2017.4.17 in /usr/local/lib/python3.10/dist-packages (from requests<3.0.0,>=2.13.0->spacy<3.7.0,>=3.2.0->ja_ginza) (2024.2.2)\n",
      "Requirement already satisfied: blis<0.8.0,>=0.7.8 in /usr/local/lib/python3.10/dist-packages (from thinc<8.2.0,>=8.1.8->spacy<3.7.0,>=3.2.0->ja_ginza) (0.7.11)\n",
      "Requirement already satisfied: confection<1.0.0,>=0.0.1 in /usr/local/lib/python3.10/dist-packages (from thinc<8.2.0,>=8.1.8->spacy<3.7.0,>=3.2.0->ja_ginza) (0.1.4)\n",
      "Requirement already satisfied: click<9.0.0,>=7.1.1 in /usr/local/lib/python3.10/dist-packages (from typer<0.10.0,>=0.3.0->spacy<3.7.0,>=3.2.0->ja_ginza) (8.1.7)\n",
      "Requirement already satisfied: MarkupSafe>=2.0 in /usr/local/lib/python3.10/dist-packages (from jinja2->spacy<3.7.0,>=3.2.0->ja_ginza) (2.1.5)\n",
      "Installing collected packages: ja_ginza\n",
      "Successfully installed ja_ginza-5.1.3\n"
     ]
    }
   ],
   "source": [
    "!wget https://raw.githubusercontent.com/stockmarkteam/ner-wikipedia-dataset/main/ner.json\n",
    "!pip install spacy[cuda100]\n",
    "!pip install -U ginza https://github.com/megagonlabs/ginza/releases/download/latest/ja_ginza_electra-latest-with-model.tar.gz\n",
    "!pip install -U ja_ginza"
   ]
  },
  {
   "cell_type": "code",
   "execution_count": 16,
   "metadata": {
    "colab": {
     "base_uri": "https://localhost:8080/"
    },
    "id": "Uy3UBi5jgSwJ",
    "outputId": "e0d49133-9cbe-4e59-c517-862db6061ef0"
   },
   "outputs": [
    {
     "name": "stdout",
     "output_type": "stream",
     "text": [
      "['清水', '着物', '京都']\n",
      "京都\n"
     ]
    }
   ],
   "source": [
    "import json\n",
    "import spacy\n",
    "import pandas as pd\n",
    "from tqdm.auto import tqdm\n",
    "import random\n",
    "\n",
    "gpu = spacy.prefer_gpu()\n",
    "#print('GPU:', gpu)\n",
    "\n",
    "nlp = spacy.load('ja_ginza_electra')\n",
    "\n",
    "docs = list(nlp.pipe(texts))\n",
    "pred_ents = []\n",
    "\n",
    "for idx, doc in enumerate(docs):\n",
    "    pred_ent = [ent.text for ent in doc.ents]\n",
    "\n",
    "    # 要素を重複させずにリストを結合\n",
    "    pred_ents = list(set(pred_ents) | set(pred_ent))\n",
    "\n",
    "print(pred_ents)\n",
    "\n",
    "choice_pred = random.choice(pred_ents)\n",
    "print(choice_pred)"
   ]
  },
  {
   "cell_type": "markdown",
   "metadata": {
    "id": "8779lY3qBZgu"
   },
   "source": [
    "## (固有抽出表現使うなら多分いらない)Mecabの利用"
   ]
  },
  {
   "cell_type": "code",
   "execution_count": null,
   "metadata": {
    "id": "4PDZUHhG_-Ym"
   },
   "outputs": [],
   "source": [
    "text= \"\"\"長崎県佐世保市では２０２２年度、市立小学校と中学校で計２件のいじめの「重大事態」が認定された。加害児童・生徒に対しては、出席停止や別室登校といった対策が法令には明記されているが、学校現場ではどのように適用されているのか。「重大事態」が発生した市立中学校の校長が現在に至るまでの経緯を踏まえ実情を明かした。\n",
    "\n",
    "◆「これしかなかった」\n",
    "　同校では２２年１１月中旬、１、２年生（当時）の複数の生徒が１年生（同）の男子生徒にけがを負わせた。市教委は同月、いじめ防止対策推進法（いじめ防止法）に基づく「重大事態」に認定し、県警は２３年夏、男子生徒にけがを負わせた疑いで生徒５人を書類送検。長崎地検は同年末にこのうち４人を長崎家裁佐世保支部に送致した。\n",
    "　被害生徒は事件後、不登校の状態が続いたが、新学年になり登校を再開。いじめ対策には加害者に教室以外の場所で学習をしてもらう別室登校もあるが、「加害生徒が学校にいると（被害生徒は）登校しづらいだろう」との判断から同校は再開時期に合わせ約２週間、加害生徒らをリモート学習にして「登校を控えさせる」措置を実施した。この間、家庭訪問をほぼ毎日行ったという。\n",
    "　ただしこの措置では、対面での学習や人間教育といった義務教育の目的を達成するのは難しい。多忙を極める教職員にも限界がある。約２週間となった背景にはこんな事情があった。\n",
    "　措置の終了後は、校内で被害者と加害者とが遭遇する機会をなくす対策を続けている。校内に導線を設け、使用するトイレも分けるなど日常生活から学校行事まで、対策はありとあらゆる場面に及んでいる。「（取れる措置は）これが限界。これしかなかった」。校長はこう絞り出した。\n",
    "\n",
    "◆出席停止の「ハードル」\n",
    "　だが、出席停止は適用しなかった。学校教育法、いじめ防止法では加害児童・生徒に対し、教育委員会が出席停止を命じることを可能にしている（表参照）。他の児童、生徒の義務教育を受ける権利を保障するための制度で、具体的には「傷害」や「心身の苦痛を与える行為」などが例示されている。\n",
    "　では、いじめがやんだ後も加害者が同じ学校にいることで被害者が「心身の苦痛を受ける」場合は適用の範囲なのか。文部科学省の見解は「個々の事例に即し、具体的かつ客観的に行わねばならない」といった趣旨にとどまった。\n",
    "　一方、校長と市教委は「そういう解釈は可能」との見方を示す。それでも適用できなかった主な要因として校長は「（加害生徒の）行為が完全に特定できていなかった」と明かす。\n",
    "　今回のいじめでは、直接けがを負わせたとされる生徒は特定したものの、他に何人の生徒が「具体的にどう関与したか」まで教育機関は完全に特定できていない。この点が出席停止をする上でのハードルになった－。校長はそう語る。出席停止などの措置を巡り、校長は「（いつまで実施するべきなのか）出口が設けられていない」と問題提起する。\n",
    "\n",
    "◆学校だけでは…\n",
    "　加害者への対応についても、更生と再発防止は欠かせないが、出席停止にした上で、学校だけで担うには「（現状では）時間も人手も足りていない」という。校長の目には、現行の法令や仕組みは「いじめの実態に即していない」と映る。また、出席停止にした場合を巡り「反省を促すなどの対処を家庭側がどれだけ担えるだろうか…」。こんな本音を漏らす教育関係者もいる。\n",
    "　いじめが発生し、被害者が心身に傷を負ったと認知される。なのに対策が十分に取れないケースもある。「被害者にとって理不尽だ」。校長はこうため息をついた。\"\"\""
   ]
  },
  {
   "cell_type": "code",
   "execution_count": null,
   "metadata": {
    "colab": {
     "base_uri": "https://localhost:8080/"
    },
    "id": "k7QwUK5CBjlU",
    "outputId": "c6f1b1a9-b9a7-4499-e577-2d523e14c7da"
   },
   "outputs": [
    {
     "name": "stdout",
     "output_type": "stream",
     "text": [
      "Collecting mecab-python3\n",
      "  Downloading mecab_python3-1.0.8-cp310-cp310-manylinux_2_17_x86_64.manylinux2014_x86_64.whl (581 kB)\n",
      "\u001b[?25l     \u001b[90m━━━━━━━━━━━━━━━━━━━━━━━━━━━━━━━━━━━━━━━━\u001b[0m \u001b[32m0.0/581.7 kB\u001b[0m \u001b[31m?\u001b[0m eta \u001b[36m-:--:--\u001b[0m\r\u001b[2K     \u001b[91m━━━━━━━━\u001b[0m\u001b[90m╺\u001b[0m\u001b[90m━━━━━━━━━━━━━━━━━━━━━━━━━━━━━━━\u001b[0m \u001b[32m122.9/581.7 kB\u001b[0m \u001b[31m3.6 MB/s\u001b[0m eta \u001b[36m0:00:01\u001b[0m\r\u001b[2K     \u001b[91m━━━━━━━━━━━━━━━━━━━━━━━━━━━━━━━━━━━━━━\u001b[0m\u001b[91m╸\u001b[0m\u001b[90m━\u001b[0m \u001b[32m563.2/581.7 kB\u001b[0m \u001b[31m7.5 MB/s\u001b[0m eta \u001b[36m0:00:01\u001b[0m\r\u001b[2K     \u001b[90m━━━━━━━━━━━━━━━━━━━━━━━━━━━━━━━━━━━━━━━━\u001b[0m \u001b[32m581.7/581.7 kB\u001b[0m \u001b[31m6.6 MB/s\u001b[0m eta \u001b[36m0:00:00\u001b[0m\n",
      "\u001b[?25hInstalling collected packages: mecab-python3\n",
      "Successfully installed mecab-python3-1.0.8\n",
      "Collecting unidic-lite\n",
      "  Downloading unidic-lite-1.0.8.tar.gz (47.4 MB)\n",
      "\u001b[2K     \u001b[90m━━━━━━━━━━━━━━━━━━━━━━━━━━━━━━━━━━━━━━━━\u001b[0m \u001b[32m47.4/47.4 MB\u001b[0m \u001b[31m12.3 MB/s\u001b[0m eta \u001b[36m0:00:00\u001b[0m\n",
      "\u001b[?25h  Preparing metadata (setup.py) ... \u001b[?25l\u001b[?25hdone\n",
      "Building wheels for collected packages: unidic-lite\n",
      "  Building wheel for unidic-lite (setup.py) ... \u001b[?25l\u001b[?25hdone\n",
      "  Created wheel for unidic-lite: filename=unidic_lite-1.0.8-py3-none-any.whl size=47658817 sha256=45f2057f090cfe611bb73b0ebd77ed2ef8da717b12cadf9ec2497df3697a6575\n",
      "  Stored in directory: /root/.cache/pip/wheels/89/e8/68/f9ac36b8cc6c8b3c96888cd57434abed96595d444f42243853\n",
      "Successfully built unidic-lite\n",
      "Installing collected packages: unidic-lite\n",
      "Successfully installed unidic-lite-1.0.8\n",
      "/bin/bash: line 1: brew: command not found\n"
     ]
    }
   ],
   "source": [
    "!pip install mecab-python3\n",
    "!pip install unidic-lite"
   ]
  },
  {
   "cell_type": "code",
   "execution_count": null,
   "metadata": {
    "colab": {
     "base_uri": "https://localhost:8080/"
    },
    "id": "ivtMhWNUTolL",
    "outputId": "12c65bc2-dacc-4bbd-827a-6b3ce4a922f2"
   },
   "outputs": [
    {
     "name": "stdout",
     "output_type": "stream",
     "text": [
      "[('長崎', 3), ('佐世保', 2)]\n",
      "[('生徒', 14), ('学校', 10), ('いじめ', 9), ('加害', 9), ('校長', 8), ('対策', 6), ('被害', 6), ('市', 5), ('事態', 3), ('児童', 3), ('具体', 3), ('心身', 3), ('県', 2), ('別室', 2), ('法令', 2), ('同校', 2), ('男子', 2), ('教委', 2), ('法', 2), ('家庭', 2), ('義務', 2), ('限界', 2), ('校内', 2), ('ハードル', 2), ('こと', 2), ('行為', 2), ('年度', 1), ('現場', 1), ('経緯', 1), ('実情', 1), ('複数', 1), ('同', 1), ('疑い', 1), ('書類', 1), ('地検', 1), ('家裁', 1), ('支部', 1), ('事件', 1), ('状態', 1), ('学年', 1), ('教室', 1), ('場所', 1), ('リモート', 1), ('人間', 1), ('目的', 1), ('教職員', 1), ('背景', 1), ('事情', 1), ('機会', 1), ('導線', 1), ('トイレ', 1), ('行事', 1), ('あり', 1), ('場面', 1), ('委員', 1), ('会', 1), ('表', 1), ('権利', 1), ('制度', 1), ('範囲', 1), ('文部', 1), ('見解', 1), ('個々', 1), ('事例', 1), ('趣旨', 1), ('要因', 1), ('機関', 1), ('出口', 1), ('問題', 1), ('現状', 1), ('人手', 1), ('目', 1), ('現行', 1), ('仕組み', 1), ('実態', 1), ('側', 1), ('本音', 1), ('傷', 1), ('ケース', 1), ('理', 1), ('不尽', 1), ('ため息', 1)]\n"
     ]
    }
   ],
   "source": [
    "import MeCab\n",
    "\n",
    "mecabTagger = MeCab.Tagger()\n",
    "noun_count1 = {}  #固有名詞\n",
    "noun_count2 = {}  #普通名詞\n",
    "\n",
    "node = mecabTagger.parseToNode(text)\n",
    "while node:\n",
    "    word = node.surface\n",
    "    hinshi = node.feature.split(\",\")[0]\n",
    "    opp1 = node.feature.split(\",\")[1]\n",
    "    opp2 = node.feature.split(\",\")[2]\n",
    "    if word in noun_count1.keys() and hinshi == \"名詞\" and opp1 == \"固有名詞\":\n",
    "        noun_freq = noun_count1[word]\n",
    "        noun_count1[word] = noun_freq + 1\n",
    "    elif hinshi == \"名詞\" and opp1 == \"固有名詞\":\n",
    "        noun_count1[word] = 1\n",
    "    else:\n",
    "        pass\n",
    "\n",
    "    if word in noun_count2.keys() and hinshi == \"名詞\" and opp1 == \"普通名詞\" and opp2 == \"一般\":\n",
    "        noun_freq = noun_count2[word]\n",
    "        noun_count2[word] = noun_freq + 1\n",
    "    elif hinshi == \"名詞\" and opp1 == \"普通名詞\" and opp2 == \"一般\":\n",
    "        noun_count2[word] = 1\n",
    "    else:\n",
    "        pass\n",
    "\n",
    "    node = node.next\n",
    "\n",
    "noun_count1 = sorted(noun_count1.items(), key=lambda x:x[1], reverse=True)\n",
    "noun_count2 = sorted(noun_count2.items(), key=lambda x:x[1], reverse=True)\n",
    "\n",
    "print(noun_count1)\n",
    "print(noun_count2)"
   ]
  },
  {
   "cell_type": "markdown",
   "metadata": {
    "id": "ehYSj3U8dxCX"
   },
   "source": [
    "## Speech(file) to Text -> LocalAI -> Text to Speech(file)"
   ]
  },
  {
   "cell_type": "code",
   "execution_count": null,
   "metadata": {
    "id": "N5cq2PWadxCY",
    "outputId": "5e97c730-df98-4fbd-891e-706b135a02e5"
   },
   "outputs": [
    {
     "name": "stdout",
     "output_type": "stream",
     "text": [
      "認識結果\n",
      "I'm David Curley at the Smithsonian Aaron Space Museum, where we are marking 50 years since man landed and walked on the moon in a lander just like this one. We are going to show you some of the actual ABC News coverage from 50 years ago during that eight day mission of this remarkable achievement. Apollo Eleven's lander, the Eagle, would be the first manned craft to land on the moon. For training, NASA came with an unusual contraption. Neil Armstrong actually had to eject from it once, and then he had a couple of successful flights. ABC News Anchor at the time, 50 years ago, frank Reynolds with a look at that unusual trainer. Apollo Eleven commander Neil Armstrong is at the controls of a lunar landing training vehicle. Testing the reaction control jets, these thrusters stabilize the Lem during landing and takeoff. The LLTV is designed to simulate the behavior of the Lem as it lands in the moon's gravity. Lunar gravity is one 6th that of the Earth's. Neil Armstrong flew one of these vehicles on May 6, 1968, and that flight was nearly his last. Later reports by a NASA investigating team said the crash, which we'll see soon, was caused by a loss of fuel pressure, compounded by a warning light that failed to work. Armstrong's coolness under pressure saved himself and possibly months of delay for the Apollo program. Later that same year, 1968, another test pilot, Joseph Allegrandi, also escaped from an LLTV just before it crashed. The training vehicle then underwent several design modifications and improvements. Engineers had to increase the vehicle's rocket power to help stabilize the craft. That made the LLTV less of a moon gravity simulator, but it improved pilot safety. On June 16, 1969, neil Armstrong flew the vehicle, sometimes called the Flying Bedstead, to several perfect landings. Question was, how does the machine fly? And the answer is that we're very pleased with the way it flies. It's a significant improvement over the LLRV, which we were flying here a year ago. And I think it does an excellent job of actually capturing the handling characteristics of the lunar module in a landing maneuver. It's really a great deal different than any other kind of aircraft that I've ever flown. The the simulation of lunar gravity has some aspects that make this type of flight sufficiently different from anything else we've ever done to make this vehicle very worthwhile. And I'm very pleased that I had the opportunity to get some flights in it here. Just before the Apollo Eleven flight.\n"
     ]
    },
    {
     "data": {
      "text/html": [
       "\n",
       "                <audio  controls=\"controls\" >\n",
       "                    <source src=\"data:audio/mpeg;base64,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\" type=\"audio/mpeg\" />\n",
       "                    Your browser does not support the audio element.\n",
       "                </audio>\n",
       "              "
      ],
      "text/plain": [
       "<IPython.lib.display.Audio object>"
      ]
     },
     "execution_count": 38,
     "metadata": {},
     "output_type": "execute_result"
    }
   ],
   "source": [
    "# Speech to Text\n",
    "aai.settings.api_key = \"xxx\"\n",
    "transcriber = aai.Transcriber()\n",
    "# 音声が含まれているファイルを処理\n",
    "transcript = transcriber.transcribe(\"https://storage.googleapis.com/aai-web-samples/news.mp4\")\n",
    "# print(\"認識結果\")\n",
    "# print(transcript.text)\n",
    "\n",
    "# LocalAI\n",
    "item_data[\"utterance\"] = transcript.text\n",
    "r = requests.post(url, json=item_data, headers=headers)\n",
    "# print(f'応答: {r.json()[\"bestResponse\"][\"utterance\"]}')\n",
    "\n",
    "# Text to Speech\n",
    "\n",
    "tts = gTTS(text=r.json()[\"bestResponse\"][\"utterance\"], lang=language, slow=False)\n",
    "tts.save(f'{audio_output_folder}/{audio_filename}')\n",
    "ipd.Audio(f'{audio_output_folder}/{audio_filename}')\n"
   ]
  }
 ],
 "metadata": {
  "accelerator": "GPU",
  "colab": {
   "collapsed_sections": [
    "8779lY3qBZgu"
   ],
   "gpuType": "T4",
   "provenance": []
  },
  "kernelspec": {
   "display_name": "Python 3",
   "name": "python3"
  },
  "language_info": {
   "codemirror_mode": {
    "name": "ipython",
    "version": 3
   },
   "file_extension": ".py",
   "mimetype": "text/x-python",
   "name": "python",
   "nbconvert_exporter": "python",
   "pygments_lexer": "ipython3",
   "version": "3.10.12"
  }
 },
 "nbformat": 4,
 "nbformat_minor": 0
}
